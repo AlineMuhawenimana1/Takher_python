{
 "cells": [
  {
   "cell_type": "markdown",
   "id": "9fb19f0d",
   "metadata": {},
   "source": [
    "----\n",
    "\n",
    "### Exercise 1:\n",
    "Declare a variable `x` and assign it the value `10`.\n",
    "\n",
    "```python\n",
    "# Exercise 1\n",
    "```\n",
    "\n",
    "---\n",
    "\n",
    "### Exercise 2:\n",
    "Assign the value `True` to a variable called `is_valid`.\n",
    "\n",
    "```python\n",
    "# Exercise 2\n",
    "```\n",
    "\n",
    "---\n",
    "\n",
    "### Exercise 3:\n",
    "Create a string variable `name` with the value \"Python Programming\".\n",
    "\n",
    "```python\n",
    "# Exercise 3\n",
    "```\n",
    "\n",
    "---\n",
    "\n",
    "### Exercise 4:\n",
    "Assign the result of `5 + 3` to a variable `sum_result`.\n",
    "\n",
    "```python\n",
    "# Exercise 4\n",
    "```\n",
    "\n",
    "---\n",
    "\n",
    "### Exercise 5:\n",
    "Assign multiple variables in one line: `a = 5`, `b = 10`, `c = 15`.\n",
    "\n",
    "```python\n",
    "# Exercise 5\n",
    "```\n",
    "\n",
    "---\n",
    "\n",
    "### Exercise 6:\n",
    "Assign the value of one variable `x` to another variable `y`.\n",
    "\n",
    "```python\n",
    "# Exercise 6\n",
    "```\n",
    "\n",
    "---\n",
    "\n",
    "### Exercise 7:\n",
    "Assign a floating-point number `9.8` to a variable `gravity`.\n",
    "\n",
    "```python\n",
    "# Exercise 7\n",
    "```\n",
    "\n",
    "---\n",
    "\n",
    "### Exercise 8:\n",
    "Create a variable `country` and assign it the string value of your favorite country.\n",
    "\n",
    "```python\n",
    "# Exercise 8\n",
    "```\n",
    "\n",
    "---\n",
    "\n",
    "### Exercise 9:\n",
    "Change the value of variable `age` from `25` to `26` in two separate steps.\n",
    "\n",
    "```python\n",
    "# Exercise 9\n",
    "```\n",
    "\n",
    "---\n",
    "\n",
    "### Exercise 10:\n",
    "Use one variable to store the result of subtracting two numbers `20 - 7`.\n",
    "\n",
    "```python\n",
    "# Exercise 10\n",
    "```\n",
    "\n",
    "---\n",
    "\n",
    "### Exercise 11:\n",
    "Assign an integer value and a floating-point value to two different variables.\n",
    "\n",
    "```python\n",
    "# Exercise 11\n",
    "```\n",
    "\n",
    "---\n",
    "\n",
    "### Exercise 12:\n",
    "Assign a boolean value `False` to a variable `is_completed`.\n",
    "\n",
    "```python\n",
    "# Exercise 12\n",
    "```\n",
    "\n",
    "---\n",
    "\n",
    "### Exercise 13:\n",
    "Swap the values of two variables `x` and `y`.\n",
    "\n",
    "```python\n",
    "# Exercise 13\n",
    "```\n",
    "\n",
    "---\n",
    "\n",
    "### Exercise 14:\n",
    "Assign a complex number `3 + 4j` to a variable `complex_num`.\n",
    "\n",
    "```python\n",
    "# Exercise 14\n",
    "```\n",
    "\n",
    "---\n",
    "\n",
    "### Exercise 15:\n",
    "Reassign a variable from an integer to a string.\n",
    "\n",
    "```python\n",
    "# Exercise 15\n",
    "```\n",
    "\n",
    "---\n",
    "\n",
    "### Exercise 16:\n",
    "Create two variables `first_name` and `last_name`, and assign them your first and last names.\n",
    "\n",
    "```python\n",
    "# Exercise 16\n",
    "```\n",
    "\n",
    "---\n",
    "\n",
    "### Exercise 17:\n",
    "Create a variable `temperature` and assign it the value of `35.5`.\n",
    "\n",
    "```python\n",
    "# Exercise 17\n",
    "```\n",
    "\n",
    "---\n",
    "\n",
    "### Exercise 18:\n",
    "Assign the result of the multiplication of two numbers `8 * 6` to a variable `product`.\n",
    "\n",
    "```python\n",
    "# Exercise 18\n",
    "```\n",
    "\n",
    "---\n",
    "\n",
    "### Exercise 19:\n",
    "Assign a sentence of your choice to a variable `sentence`.\n",
    "\n",
    "```python\n",
    "# Exercise 19\n",
    "```\n",
    "\n",
    "---\n",
    "\n",
    "### Exercise 20:\n",
    "Use an assignment to convert a string `'50'` into an integer variable `int_value`.\n",
    "\n",
    "```python\n",
    "# Exercise 20\n",
    "```\n",
    "\n",
    "---\n",
    "\n",
    "### Exercise 21:\n",
    "Assign the result of dividing `144` by `12` to a variable `quotient`.\n",
    "\n",
    "```python\n",
    "# Exercise 21\n",
    "```\n",
    "\n",
    "---\n",
    "\n",
    "### Exercise 22:\n",
    "Assign the remainder of `47 divided by 5` to a variable `remainder`.\n",
    "\n",
    "```python\n",
    "# Exercise 22\n",
    "```\n",
    "\n",
    "---\n",
    "\n",
    "### Exercise 23:\n",
    "Create a variable `is_student` and assign it the value `True`.\n",
    "\n",
    "```python\n",
    "# Exercise 23\n",
    "```\n",
    "\n",
    "---\n",
    "\n",
    "### Exercise 24:\n",
    "Use a variable to store the result of a modulo operation: `45 % 4`.\n",
    "\n",
    "```python\n",
    "# Exercise 24\n",
    "```\n",
    "\n",
    "---\n",
    "\n",
    "### Exercise 25:\n",
    "Create a variable `pi` and assign it the value `3.14159`.\n",
    "\n",
    "```python\n",
    "# Exercise 25\n",
    "```\n",
    "\n",
    "---\n",
    "\n",
    "### Exercise 26:\n",
    "Create two variables `length` and `width`, assign them values, and calculate the area of a rectangle.\n",
    "\n",
    "```python\n",
    "# Exercise 26\n",
    "```\n",
    "\n",
    "---\n",
    "\n",
    "### Exercise 27:\n",
    "Assign a negative number to a variable `negative_value`.\n",
    "\n",
    "```python\n",
    "# Exercise 27\n",
    "```\n",
    "\n",
    "---\n",
    "\n",
    "### Exercise 28:\n",
    "Assign a string containing a special character (e.g., \"Hello, World!\") to a variable `greeting`.\n",
    "\n",
    "```python\n",
    "# Exercise 28\n",
    "```\n",
    "\n",
    "---\n",
    "\n",
    "### Exercise 29:\n",
    "Create a variable `population` and assign it a large integer value (in billions).\n",
    "\n",
    "```python\n",
    "# Exercise 29\n",
    "```\n",
    "\n",
    "---\n",
    "\n",
    "### Exercise 30:\n",
    "Use a variable to store the result of raising `2` to the power of `8`.\n",
    "\n",
    "```python\n",
    "# Exercise 30\n",
    "```\n",
    "\n",
    "---\n",
    "\n",
    "### Exercise 31:\n",
    "Assign a list of your favorite fruits to a variable `fruits`.\n",
    "\n",
    "```python\n",
    "# Exercise 31\n",
    "```\n",
    "\n",
    "---\n",
    "\n",
    "### Exercise 32:\n",
    "Assign a tuple of three numbers to a variable `coordinates`.\n",
    "\n",
    "```python\n",
    "# Exercise 32\n",
    "```\n",
    "\n",
    "---\n",
    "\n",
    "### Exercise 33:\n",
    "Assign a dictionary with keys `name` and `age` to a variable `person`.\n",
    "\n",
    "```python\n",
    "# Exercise 33\n",
    "```\n",
    "\n",
    "---\n",
    "\n",
    "### Exercise 34:\n",
    "Use variables to store the sum of two floating-point numbers.\n",
    "\n",
    "```python\n",
    "# Exercise 34\n",
    "```\n",
    "\n",
    "---\n",
    "\n",
    "### Exercise 35:\n",
    "Create a variable `is_sunny` and assign it the result of a comparison `10 > 5`.\n",
    "\n",
    "```python\n",
    "# Exercise 35\n",
    "```\n",
    "\n",
    "---\n",
    "\n",
    "### Exercise 36:\n",
    "Assign a string and an integer to two different variables, then print both on one line.\n",
    "\n",
    "```python\n",
    "# Exercise 36\n",
    "```\n",
    "\n",
    "---\n",
    "\n",
    "### Exercise 37:\n",
    "Reassign a variable that originally held a number to a boolean value.\n",
    "\n",
    "```python\n",
    "# Exercise 37\n",
    "```\n",
    "\n",
    "---\n",
    "\n",
    "### Exercise 38:\n",
    "Create a variable `is_weekend` and assign it the result of `False`.\n",
    "\n",
    "```python\n",
    "# Exercise 38\n",
    "```\n",
    "\n",
    "---\n",
    "\n",
    "### Exercise 39:\n",
    "Assign a multi-line string to a variable `description`.\n",
    "\n",
    "```python\n",
    "# Exercise 39\n",
    "```\n",
    "\n",
    "---\n",
    "\n",
    "### Exercise 40:\n",
    "Use variables to store the result of the absolute value of `-25`.\n",
    "\n",
    "```python\n",
    "# Exercise 40\n",
    "```\n",
    "\n",
    "---\n",
    "\n",
    "### Exercise 41:\n",
    "Assign the result of a floor division `100 // 6` to a variable `floor_div_result`.\n",
    "\n",
    "```python\n",
    "# Exercise 41\n",
    "```\n",
    "\n",
    "---\n",
    "\n",
    "### Exercise 42:\n",
    "Assign the result of adding a floating-point number to an integer to a variable `mixed_sum`.\n",
    "\n",
    "```python\n",
    "# Exercise 42\n",
    "```\n",
    "\n",
    "---\n",
    "\n",
    "### Exercise 43:\n",
    "Use variables to store a combination of string concatenation.\n",
    "\n",
    "```python\n",
    "# Exercise 43\n",
    "```\n",
    "\n",
    "---\n",
    "\n",
    "### Exercise 44:\n",
    "Assign an empty list to a variable `empty_list`.\n",
    "\n",
    "```python\n",
    "# Exercise 44\n",
    "```\n",
    "\n",
    "---\n",
    "\n",
    "### Exercise 45:\n",
    "Assign a boolean value based on the comparison of two variables `a = 10` and `b = 15`.\n",
    "\n",
    "```python\n",
    "# Exercise 45\n",
    "```\n",
    "\n",
    "---\n",
    "\n",
    "### Exercise 46:\n",
    "Assign a long sentence to a variable and count its characters using `len()`.\n",
    "\n",
    "```python\n",
    "# Exercise 46\n",
    "```\n",
    "\n",
    "---\n",
    "\n",
    "### Exercise 47:\n",
    "Assign a fractional result `7 / 3` to a variable `division_result`.\n",
    "\n",
    "```python\n",
    "# Exercise 47\n",
    "```\n",
    "\n",
    "---\n",
    "\n",
    "### Exercise 48:\n",
    "Create a variable `speed` and assign it the value of 100 kilometers per hour.\n",
    "\n",
    "```python\n",
    "# Exercise 48\n",
    "```\n",
    "\n",
    "---\n",
    "\n",
    "### Exercise 49:\n",
    "Assign a multi-variable equation like `y = 3x + 5` where `x = 4` to a variable `y`.\n",
    "\n",
    "```python\n",
    "# Exercise 49\n",
    "```\n",
    "\n",
    "---\n",
    "\n",
    "### Exercise 50:\n",
    "Use variables to calculate and store the average of three numbers.\n",
    "\n",
    "```python\n",
    "# Exercise 50\n",
    "```\n",
    "\n",
    "****"
   ]
  },
  {
   "cell_type": "markdown",
   "id": "426486dd",
   "metadata": {},
   "source": [
    "# Practical_1: Variables and Assignments"
   ]
  },
  {
   "cell_type": "markdown",
   "id": "b662d5c3-9662-480a-9ec0-b09f54fca479",
   "metadata": {},
   "source": [
    "# exercise 1"
   ]
  },
  {
   "cell_type": "code",
   "execution_count": 2,
   "id": "d893105c-9664-4bd7-b683-272ed39d3439",
   "metadata": {},
   "outputs": [],
   "source": [
    "x=10\n"
   ]
  },
  {
   "cell_type": "markdown",
   "id": "a18fcab7-0f43-422f-8d3f-054b53980736",
   "metadata": {},
   "source": [
    "# exercise 2"
   ]
  },
  {
   "cell_type": "code",
   "execution_count": 8,
   "id": "fde8d434-3743-4f43-8610-653e1f952f25",
   "metadata": {},
   "outputs": [],
   "source": [
    "is_valid=True"
   ]
  },
  {
   "cell_type": "markdown",
   "id": "07d69b8b-d43e-4581-bed7-88dfe24026e9",
   "metadata": {},
   "source": [
    "# exercise 3"
   ]
  },
  {
   "cell_type": "code",
   "execution_count": 10,
   "id": "b0b9d7ee-4b82-4238-a583-e02c99a542f1",
   "metadata": {},
   "outputs": [],
   "source": [
    "name=\"Python Programming\""
   ]
  },
  {
   "cell_type": "markdown",
   "id": "635513a8-d56e-4376-8bf5-4c4717533804",
   "metadata": {},
   "source": [
    "# exercise 4"
   ]
  },
  {
   "cell_type": "code",
   "execution_count": 11,
   "id": "e1d25441-da7d-4f0f-9c4a-3bf76bef3238",
   "metadata": {},
   "outputs": [],
   "source": [
    "sum_result=5+3"
   ]
  },
  {
   "cell_type": "markdown",
   "id": "80fcbbb6-55d2-473f-8cb1-8fa9da84183e",
   "metadata": {},
   "source": [
    "# exercise 5"
   ]
  },
  {
   "cell_type": "code",
   "execution_count": 12,
   "id": "7e3e5c5b-aa77-495f-8840-6fdc20ab4993",
   "metadata": {},
   "outputs": [],
   "source": [
    "a,b,c = 5, 10 ,15 "
   ]
  },
  {
   "cell_type": "markdown",
   "id": "61cc0392-b437-46a0-875e-04c10d165f6f",
   "metadata": {},
   "source": [
    "# exercise 6"
   ]
  },
  {
   "cell_type": "code",
   "execution_count": 25,
   "id": "69091374-c1e3-41ce-862a-3307ba60a393",
   "metadata": {},
   "outputs": [],
   "source": [
    "x = 10  \n",
    "y = x"
   ]
  },
  {
   "cell_type": "markdown",
   "id": "49105af0-c5ff-4711-8b18-496f9ede94aa",
   "metadata": {},
   "source": [
    "# exercise 7"
   ]
  },
  {
   "cell_type": "code",
   "execution_count": 17,
   "id": "58c0e4f0-091b-414e-87af-9919ad59ce02",
   "metadata": {},
   "outputs": [],
   "source": [
    " gravity =9.8"
   ]
  },
  {
   "cell_type": "markdown",
   "id": "0ba3d5fd-5ae0-4e34-b68a-e10e5cff9002",
   "metadata": {},
   "source": [
    "# exercise 8"
   ]
  },
  {
   "cell_type": "code",
   "execution_count": 21,
   "id": "5234a6da-2086-44e6-8cb0-10c7c5ec9f98",
   "metadata": {},
   "outputs": [],
   "source": [
    "country = \"Rwanda\""
   ]
  },
  {
   "cell_type": "markdown",
   "id": "ae3799b5-f668-4b9c-95c2-0b4328bf186f",
   "metadata": {},
   "source": [
    "# exercise 9"
   ]
  },
  {
   "cell_type": "code",
   "execution_count": 22,
   "id": "69728d67-3a60-4c82-9c19-87e69b35330f",
   "metadata": {},
   "outputs": [
    {
     "name": "stdout",
     "output_type": "stream",
     "text": [
      "Age after step 1: 25\n",
      "Age after step 2: 26\n"
     ]
    }
   ],
   "source": [
    "age = 25\n",
    "print(\"Age after step 1:\", age)\n",
    "age = age + 1\n",
    "print(\"Age after step 2:\", age)"
   ]
  },
  {
   "cell_type": "markdown",
   "id": "7ccaa623-56b3-4264-ba44-65ba5fab7502",
   "metadata": {},
   "source": [
    "# exercise 10"
   ]
  },
  {
   "cell_type": "code",
   "execution_count": 23,
   "id": "8de1e9f1-81a5-4ffe-bd9e-58d24cf1169c",
   "metadata": {},
   "outputs": [],
   "source": [
    "difference = 20 - 7"
   ]
  },
  {
   "cell_type": "markdown",
   "id": "73d4d903-3fa2-4e33-9e6b-0b32b80c5f8b",
   "metadata": {},
   "source": [
    "# exercise 11"
   ]
  },
  {
   "cell_type": "code",
   "execution_count": 24,
   "id": "a682e83c-c04f-4545-ad66-635c79cd8b31",
   "metadata": {},
   "outputs": [],
   "source": [
    "integer_value = 42       \n",
    "floating_point_value = 3.14 "
   ]
  },
  {
   "cell_type": "markdown",
   "id": "3f047813-5899-4584-a996-807f8f41d9c1",
   "metadata": {},
   "source": [
    "# exercise 12"
   ]
  },
  {
   "cell_type": "code",
   "execution_count": 26,
   "id": "42a701f7-605d-4e91-8d4e-188a86b5c355",
   "metadata": {},
   "outputs": [],
   "source": [
    "is_completed = False"
   ]
  },
  {
   "cell_type": "markdown",
   "id": "ac7febe4-a382-43a0-bded-26f27b909aa4",
   "metadata": {},
   "source": [
    "# exercise 13"
   ]
  },
  {
   "cell_type": "code",
   "execution_count": 27,
   "id": "709685b4-8a8e-43a8-add0-71178ec8a73a",
   "metadata": {},
   "outputs": [],
   "source": [
    "x = 5\n",
    "y = 10\n",
    "x, y = y, x\n"
   ]
  },
  {
   "cell_type": "markdown",
   "id": "27de3e80-d938-447c-b77f-ffe277cf0999",
   "metadata": {},
   "source": [
    "# exercise 14"
   ]
  },
  {
   "cell_type": "code",
   "execution_count": 28,
   "id": "1ff73ffb-250e-4ab0-9330-973235b4fbcc",
   "metadata": {},
   "outputs": [],
   "source": [
    "complex_num = 3 + 4j"
   ]
  },
  {
   "cell_type": "markdown",
   "id": "342819e8-6604-4993-ad77-876904eef63d",
   "metadata": {},
   "source": [
    "# exercise 15"
   ]
  },
  {
   "cell_type": "code",
   "execution_count": 29,
   "id": "1a3ed7ed-6a5c-4c1f-b62b-6acd913db1cd",
   "metadata": {},
   "outputs": [],
   "source": [
    "variable = 100\n",
    "variable = \"Now I am a string\""
   ]
  },
  {
   "cell_type": "markdown",
   "id": "f1f7abf6-ca43-4df4-b934-3d3065d547c4",
   "metadata": {},
   "source": [
    "# exercise 16"
   ]
  },
  {
   "cell_type": "code",
   "execution_count": 30,
   "id": "1c5dd194-5d31-4c6b-9141-a4f89dfcbf53",
   "metadata": {},
   "outputs": [],
   "source": [
    "first_name = \"gogo\" \n",
    "last_name = \"juju\""
   ]
  },
  {
   "cell_type": "markdown",
   "id": "b730456f-75e6-416a-ac5a-bf0026889400",
   "metadata": {},
   "source": [
    "# exercise 17"
   ]
  },
  {
   "cell_type": "code",
   "execution_count": 31,
   "id": "7f210b10-b6ad-4500-a93e-08fdd24e1856",
   "metadata": {},
   "outputs": [],
   "source": [
    "temperature = 35.5"
   ]
  },
  {
   "cell_type": "code",
   "execution_count": null,
   "id": "2e557f6a-86ca-48e2-90a1-be9c9a2b9131",
   "metadata": {},
   "outputs": [],
   "source": []
  },
  {
   "cell_type": "markdown",
   "id": "29bbea9d-ed74-4690-ae10-4acadfcff5c3",
   "metadata": {},
   "source": [
    "# exercise 18"
   ]
  },
  {
   "cell_type": "code",
   "execution_count": 32,
   "id": "3daa3bc7-3054-450d-8571-645a254c84d0",
   "metadata": {},
   "outputs": [],
   "source": [
    "product = 8 * 6"
   ]
  },
  {
   "cell_type": "markdown",
   "id": "d1e53038-0a8d-4951-a5da-ae7fd990a928",
   "metadata": {},
   "source": [
    "# exercise 19 "
   ]
  },
  {
   "cell_type": "code",
   "execution_count": null,
   "id": "dcc60583-3c7f-4a8b-b95f-82bf910b1020",
   "metadata": {},
   "outputs": [],
   "source": [
    "sentence = \"Python programming is fun and versatile.\""
   ]
  },
  {
   "cell_type": "markdown",
   "id": "faefaf27-4305-4a10-9971-57dc0ec847cf",
   "metadata": {},
   "source": [
    "# exercise 20"
   ]
  },
  {
   "cell_type": "code",
   "execution_count": 33,
   "id": "e82f78b5-10d4-4b08-8d36-794394c9015b",
   "metadata": {},
   "outputs": [],
   "source": [
    "int_value = int('50')"
   ]
  },
  {
   "cell_type": "markdown",
   "id": "e02bf77f-26a6-4281-ac31-4ddc4ac85763",
   "metadata": {},
   "source": [
    "# exercise 21"
   ]
  },
  {
   "cell_type": "code",
   "execution_count": 34,
   "id": "645bb48b-6a63-4201-ba93-2731d8276d51",
   "metadata": {},
   "outputs": [],
   "source": [
    "quotient = 144 / 12"
   ]
  },
  {
   "cell_type": "markdown",
   "id": "73452ec3-6d0e-480f-82ee-3399a3ed532a",
   "metadata": {},
   "source": [
    "# exercise 22"
   ]
  },
  {
   "cell_type": "code",
   "execution_count": 35,
   "id": "4ce20d8f-8abe-4f4a-a8d9-a0853eef7eda",
   "metadata": {},
   "outputs": [],
   "source": [
    "remainder = 47 % 5"
   ]
  },
  {
   "cell_type": "markdown",
   "id": "12e4e680-157c-4eb9-a52c-89ea6398078c",
   "metadata": {},
   "source": [
    "# exercise 23"
   ]
  },
  {
   "cell_type": "code",
   "execution_count": 36,
   "id": "88df8b5b-b035-4c63-857f-11b3e8c10721",
   "metadata": {},
   "outputs": [],
   "source": [
    "is_student = True"
   ]
  },
  {
   "cell_type": "markdown",
   "id": "c9c15c37-978f-4bb8-9b42-36677c9e5a5e",
   "metadata": {},
   "source": [
    "# exercise 24"
   ]
  },
  {
   "cell_type": "code",
   "execution_count": 37,
   "id": "534186f9-ad9e-44e7-8f61-e6ad91fcecbf",
   "metadata": {},
   "outputs": [],
   "source": [
    "mod_result = 45 % 4"
   ]
  },
  {
   "cell_type": "markdown",
   "id": "fd209a4d-b9e6-413f-9192-62708964d041",
   "metadata": {},
   "source": [
    "# exercise 25"
   ]
  },
  {
   "cell_type": "code",
   "execution_count": 38,
   "id": "92851594-2964-4641-9a4e-09b08d2a45be",
   "metadata": {},
   "outputs": [],
   "source": [
    "pi = 3.14159"
   ]
  },
  {
   "cell_type": "markdown",
   "id": "965e8ad8-2f39-4a5c-b7d3-3479ed276268",
   "metadata": {},
   "source": [
    "# exercise 26"
   ]
  },
  {
   "cell_type": "code",
   "execution_count": 40,
   "id": "f62ad538-f1d9-4ff0-b4b2-ea74fe81953f",
   "metadata": {},
   "outputs": [],
   "source": [
    "length = 10\n",
    "width = 5\n",
    "area = length * width"
   ]
  },
  {
   "cell_type": "markdown",
   "id": "4bde82c9-de52-4c80-8934-b50ce08550b8",
   "metadata": {},
   "source": [
    "# exercise 27"
   ]
  },
  {
   "cell_type": "code",
   "execution_count": 41,
   "id": "9d08a4da-e000-451b-8d68-b7a9d976ee66",
   "metadata": {},
   "outputs": [],
   "source": [
    "negative_value = -42"
   ]
  },
  {
   "cell_type": "markdown",
   "id": "70327de1-8fed-48e2-83e1-85f156ca170e",
   "metadata": {},
   "source": [
    "# exercise 28"
   ]
  },
  {
   "cell_type": "code",
   "execution_count": 42,
   "id": "94e2cf31-452b-442c-b113-8fabe5b380f3",
   "metadata": {},
   "outputs": [],
   "source": [
    "greeting = \"Hello, World!\""
   ]
  },
  {
   "cell_type": "markdown",
   "id": "e22a02bd-8a72-4966-b9b8-319994d73b46",
   "metadata": {},
   "source": [
    "# exercise 29"
   ]
  },
  {
   "cell_type": "code",
   "execution_count": 43,
   "id": "15c49436-ca3a-446f-95fa-d3b240d1758b",
   "metadata": {},
   "outputs": [],
   "source": [
    "population = 7_900_000_000"
   ]
  },
  {
   "cell_type": "markdown",
   "id": "b626f98a-c868-42f9-a953-0bef3458121d",
   "metadata": {},
   "source": [
    "# exercise 30"
   ]
  },
  {
   "cell_type": "code",
   "execution_count": 44,
   "id": "9d68cba1-cc43-4a4b-8796-9ce2393d7c8c",
   "metadata": {},
   "outputs": [],
   "source": [
    "power_result = 2 ** 8"
   ]
  },
  {
   "cell_type": "markdown",
   "id": "50881dcf-48e5-4ca4-8ea7-1684cec6866c",
   "metadata": {},
   "source": [
    "# exercise 31"
   ]
  },
  {
   "cell_type": "code",
   "execution_count": 45,
   "id": "6587937c-0c98-4e28-be96-51d6e87898c0",
   "metadata": {},
   "outputs": [],
   "source": [
    "fruits = [\"apple\", \"banana\", \"mango\"]"
   ]
  },
  {
   "cell_type": "markdown",
   "id": "5d781ff8-aa80-4cc5-ac46-267de2ac6044",
   "metadata": {},
   "source": [
    "# exercise 32"
   ]
  },
  {
   "cell_type": "code",
   "execution_count": 46,
   "id": "3b1b7247-b06c-4cb8-9ae1-5bf0e1cdb99c",
   "metadata": {},
   "outputs": [],
   "source": [
    "coordinates = (10, 20, 30)"
   ]
  },
  {
   "cell_type": "markdown",
   "id": "0ae46320-254a-4396-ac82-22651b3cf20c",
   "metadata": {},
   "source": [
    "# exercise 33"
   ]
  },
  {
   "cell_type": "code",
   "execution_count": 47,
   "id": "afaeece6-43ac-4f0a-9437-1ca0dd0901a8",
   "metadata": {},
   "outputs": [],
   "source": [
    "person = {\"name\": \"Alice\", \"age\": 30}"
   ]
  },
  {
   "cell_type": "markdown",
   "id": "399853fc-0973-4744-89d5-7d6f3f7c04a5",
   "metadata": {},
   "source": [
    "# exercise 34"
   ]
  },
  {
   "cell_type": "code",
   "execution_count": 48,
   "id": "fb04eda9-c860-4605-900e-522881b966e8",
   "metadata": {},
   "outputs": [],
   "source": [
    "num1 = 5.5\n",
    "num2 = 4.5\n",
    "sum_floats = num1 + num2"
   ]
  },
  {
   "cell_type": "markdown",
   "id": "05f4544f-e26d-427c-aa81-ead919b51c20",
   "metadata": {},
   "source": [
    "# exercise 35"
   ]
  },
  {
   "cell_type": "code",
   "execution_count": 49,
   "id": "1eb0a59d-38e3-49e5-bc38-0207611d7aef",
   "metadata": {},
   "outputs": [],
   "source": [
    "is_sunny = 10 > 5"
   ]
  },
  {
   "cell_type": "markdown",
   "id": "5905cf0c-82dd-4677-b4c8-cfd5adc29eed",
   "metadata": {},
   "source": [
    "# exercise 36"
   ]
  },
  {
   "cell_type": "code",
   "execution_count": 50,
   "id": "469bf1ca-0648-4491-aa84-625a2be9b5bf",
   "metadata": {},
   "outputs": [],
   "source": [
    "string_var = \"Age:\"\n",
    "int_var = 25"
   ]
  },
  {
   "cell_type": "markdown",
   "id": "5a0df013-7ced-40db-9a48-3aeee4b218be",
   "metadata": {},
   "source": [
    "# exercise 37"
   ]
  },
  {
   "cell_type": "code",
   "execution_count": 51,
   "id": "e04866a6-1f87-4a68-bc86-d2a5c4a64fa0",
   "metadata": {},
   "outputs": [],
   "source": [
    "variable = 100\n",
    "variable = False"
   ]
  },
  {
   "cell_type": "markdown",
   "id": "9ee1b219-c5dc-4478-855d-0cc4de6357b6",
   "metadata": {},
   "source": [
    "# exercise 38"
   ]
  },
  {
   "cell_type": "code",
   "execution_count": 52,
   "id": "f5c07cb2-78e2-4d40-9f80-0ef14182ef65",
   "metadata": {},
   "outputs": [],
   "source": [
    "is_weekend = False"
   ]
  },
  {
   "cell_type": "markdown",
   "id": "f2572104-ef71-4b2b-89d2-ac42ffae345c",
   "metadata": {},
   "source": [
    "# exercise 39"
   ]
  },
  {
   "cell_type": "code",
   "execution_count": 53,
   "id": "265c740e-dabf-43ae-b5a7-bc432d7bf01a",
   "metadata": {},
   "outputs": [],
   "source": [
    "description = \"\"\"This is a\n",
    "multi-line string\n",
    "that spans several lines.\"\"\""
   ]
  },
  {
   "cell_type": "markdown",
   "id": "ebb063a4-0e7c-40e1-83ae-7f851a461c8f",
   "metadata": {},
   "source": [
    "# exercise 40"
   ]
  },
  {
   "cell_type": "code",
   "execution_count": 54,
   "id": "226d0331-bd1a-458e-88ca-8ebbe27d8af8",
   "metadata": {},
   "outputs": [],
   "source": [
    "abs_value = abs(-25)"
   ]
  },
  {
   "cell_type": "markdown",
   "id": "1ce59621-90c3-4613-954f-6084f76e3058",
   "metadata": {},
   "source": [
    "# exercise 41"
   ]
  },
  {
   "cell_type": "code",
   "execution_count": 55,
   "id": "a7540596-f804-4e93-a41f-4887da497f69",
   "metadata": {},
   "outputs": [],
   "source": [
    "floor_div_result = 100 // 6"
   ]
  },
  {
   "cell_type": "markdown",
   "id": "e36bad48-4aaf-454c-a1dd-a61bba55bf7b",
   "metadata": {},
   "source": [
    "# exercise 42"
   ]
  },
  {
   "cell_type": "code",
   "execution_count": 56,
   "id": "867a1c35-49e2-413c-b73a-bb2d902dd1ea",
   "metadata": {},
   "outputs": [],
   "source": [
    "mixed_sum = 5 + 3.2"
   ]
  },
  {
   "cell_type": "markdown",
   "id": "b8f0263b-0e61-4361-b912-8fb001fe8089",
   "metadata": {},
   "source": [
    "# exercise 43"
   ]
  },
  {
   "cell_type": "code",
   "execution_count": 57,
   "id": "aa691059-dc67-4822-9d01-1d57270e2114",
   "metadata": {},
   "outputs": [],
   "source": [
    "str1 = \"Hello, \"\n",
    "str2 = \"world!\"\n",
    "concatenated = str1 + str2"
   ]
  },
  {
   "cell_type": "markdown",
   "id": "5b350c9e-22d8-4d18-8f70-360ef7138ca2",
   "metadata": {},
   "source": [
    "# exercise 44"
   ]
  },
  {
   "cell_type": "code",
   "execution_count": 58,
   "id": "38ccdb51-7fa4-4efc-8669-954e409ad58f",
   "metadata": {},
   "outputs": [],
   "source": [
    "empty_list = []"
   ]
  },
  {
   "cell_type": "markdown",
   "id": "24159d1d-2f13-4a52-abea-d28f864b4639",
   "metadata": {},
   "source": [
    "# exercise 45"
   ]
  },
  {
   "cell_type": "code",
   "execution_count": 59,
   "id": "45a45dd6-a692-4baf-aa9b-839788f8db76",
   "metadata": {},
   "outputs": [],
   "source": [
    "a = 10\n",
    "b = 15\n",
    "comparison_result = a < b"
   ]
  },
  {
   "cell_type": "markdown",
   "id": "92ba6c55-97e5-4b2c-a49e-d3eaccc2c4fa",
   "metadata": {},
   "source": [
    "# exercise 46"
   ]
  },
  {
   "cell_type": "code",
   "execution_count": 60,
   "id": "1ffe3a1d-d558-4bfc-9506-aabc0e3e7a79",
   "metadata": {},
   "outputs": [],
   "source": [
    "sentence = \"This is a long sentence used to count characters.\"\n",
    "char_count = len(sentence)"
   ]
  },
  {
   "cell_type": "markdown",
   "id": "aebf3775-456d-44db-9d67-efb57d2f98f5",
   "metadata": {},
   "source": [
    "# exercise 47"
   ]
  },
  {
   "cell_type": "code",
   "execution_count": 61,
   "id": "e70edaf8-4575-4b17-95b7-a88a904ac042",
   "metadata": {},
   "outputs": [],
   "source": [
    "division_result = 7 / 3"
   ]
  },
  {
   "cell_type": "markdown",
   "id": "436502d8-a923-4d8c-bf64-37056456153b",
   "metadata": {},
   "source": [
    "# exercise 48"
   ]
  },
  {
   "cell_type": "code",
   "execution_count": 62,
   "id": "d5175ba8-8094-4f83-8b0a-6313e59c3e3f",
   "metadata": {},
   "outputs": [],
   "source": [
    "speed = 100 "
   ]
  },
  {
   "cell_type": "markdown",
   "id": "f68822d2-ccde-4474-8525-a0f15be16aee",
   "metadata": {},
   "source": [
    "# exercise 49"
   ]
  },
  {
   "cell_type": "code",
   "execution_count": 63,
   "id": "ca208d50-8283-4a2e-9e8d-0350f8e4e1e8",
   "metadata": {},
   "outputs": [],
   "source": [
    "x = 4\n",
    "y = 3 * x + 5"
   ]
  },
  {
   "cell_type": "markdown",
   "id": "b6484809-7034-4661-a75d-2e855b3484d5",
   "metadata": {},
   "source": [
    "# exercise 50"
   ]
  },
  {
   "cell_type": "code",
   "execution_count": 64,
   "id": "2c67c9ae-5855-46e6-a2e8-b2bd9dcb973f",
   "metadata": {},
   "outputs": [],
   "source": [
    "num1, num2, num3 = 10, 20, 30\n",
    "average = (num1 + num2 + num3) / 3"
   ]
  },
  {
   "cell_type": "code",
   "execution_count": null,
   "id": "b9efb587-b431-40a5-b3ba-e828a4684bf1",
   "metadata": {},
   "outputs": [],
   "source": []
  }
 ],
 "metadata": {
  "kernelspec": {
   "display_name": "Python [conda env:base] *",
   "language": "python",
   "name": "conda-base-py"
  },
  "language_info": {
   "codemirror_mode": {
    "name": "ipython",
    "version": 3
   },
   "file_extension": ".py",
   "mimetype": "text/x-python",
   "name": "python",
   "nbconvert_exporter": "python",
   "pygments_lexer": "ipython3",
   "version": "3.12.7"
  }
 },
 "nbformat": 4,
 "nbformat_minor": 5
}
