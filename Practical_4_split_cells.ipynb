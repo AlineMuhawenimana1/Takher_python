{
 "cells": [
  {
   "cell_type": "markdown",
   "id": "9fd00cef",
   "metadata": {
    "id": "9fd00cef"
   },
   "source": [
    "# Practical_4: Flow control"
   ]
  },
  {
   "cell_type": "markdown",
   "id": "497af3a0",
   "metadata": {
    "id": "497af3a0"
   },
   "source": [
    "\n",
    "\n",
    "---\n",
    "\n",
    "### Exercise 1:\n",
    "Write a Python program that checks if a number is positive or negative.\n"
   ]
  },
  {
   "cell_type": "code",
   "execution_count": 2,
   "id": "4525d7b1",
   "metadata": {
    "id": "4525d7b1"
   },
   "outputs": [
    {
     "name": "stdout",
     "output_type": "stream",
     "text": [
      "The number is negative.\n"
     ]
    }
   ],
   "source": [
    "# Exercise 1\n",
    "def check_number_sign(number):\n",
    "    if number > 0:\n",
    "        return \"The number is positive.\"\n",
    "    elif number < 0:\n",
    "        return \"The number is negative.\"\n",
    "    else:\n",
    "        return \"The number is zero.\"\n",
    "num = -7\n",
    "print(check_number_sign(num))  \n"
   ]
  },
  {
   "cell_type": "markdown",
   "id": "289c0fec",
   "metadata": {
    "id": "289c0fec"
   },
   "source": [
    "\n",
    "---\n",
    "\n",
    "### Exercise 2:\n",
    "Write a Python function that checks if a string starts with a vowel.\n"
   ]
  },
  {
   "cell_type": "code",
   "execution_count": 3,
   "id": "3adbe475",
   "metadata": {
    "id": "3adbe475"
   },
   "outputs": [
    {
     "name": "stdout",
     "output_type": "stream",
     "text": [
      "True\n"
     ]
    }
   ],
   "source": [
    "# Exercise 2\n",
    "def starts_with_vowel(s):\n",
    "    if not s:\n",
    "        return False\n",
    "    return s[0].lower() in 'aeiou'\n",
    "word = \"Apple\"\n",
    "print(starts_with_vowel(word)) \n"
   ]
  },
  {
   "cell_type": "markdown",
   "id": "d64fdd3e",
   "metadata": {
    "id": "d64fdd3e"
   },
   "source": [
    "\n",
    "---\n",
    "\n",
    "### Exercise 3:\n",
    "Write a Python program that takes a list of integers and prints \"Even\" for each even number and \"Odd\" for each odd number.\n"
   ]
  },
  {
   "cell_type": "code",
   "execution_count": 4,
   "id": "e6926b1c",
   "metadata": {
    "id": "e6926b1c"
   },
   "outputs": [
    {
     "name": "stdout",
     "output_type": "stream",
     "text": [
      "Odd\n",
      "Even\n",
      "Odd\n",
      "Even\n",
      "Odd\n",
      "Even\n"
     ]
    }
   ],
   "source": [
    "# Exercise 3\n",
    "def print_even_or_odd(numbers):\n",
    "    for num in numbers:\n",
    "        if num % 2 == 0:\n",
    "            print(\"Even\")\n",
    "        else:\n",
    "            print(\"Odd\")\n",
    "my_list = [1, 2, 3, 4, 5, 6]\n",
    "print_even_or_odd(my_list)\n"
   ]
  },
  {
   "cell_type": "markdown",
   "id": "b5ce7b99",
   "metadata": {
    "id": "b5ce7b99"
   },
   "source": [
    "\n",
    "---\n",
    "\n",
    "### Exercise 4:\n",
    "Write a Python program that checks if a given year is a leap year.\n"
   ]
  },
  {
   "cell_type": "code",
   "execution_count": 5,
   "id": "eb3d99f0",
   "metadata": {
    "id": "eb3d99f0"
   },
   "outputs": [
    {
     "name": "stdout",
     "output_type": "stream",
     "text": [
      "2024 is a leap year.\n"
     ]
    }
   ],
   "source": [
    "# Exercise 4\n",
    "def is_leap_year(year):\n",
    "    if (year % 4 == 0 and year % 100 != 0) or (year % 400 == 0):\n",
    "        return True\n",
    "    else:\n",
    "        return False\n",
    "year = 2024\n",
    "if is_leap_year(year):\n",
    "    print(f\"{year} is a leap year.\")\n",
    "else:\n",
    "    print(f\"{year} is not a leap year.\")\n"
   ]
  },
  {
   "cell_type": "markdown",
   "id": "c5496d7d",
   "metadata": {
    "id": "c5496d7d"
   },
   "source": [
    "\n",
    "---\n",
    "\n",
    "### Exercise 5:\n",
    "Write a Python function that checks if a number is divisible by both 3 and 5.\n"
   ]
  },
  {
   "cell_type": "code",
   "execution_count": 6,
   "id": "46b1bd68",
   "metadata": {
    "id": "46b1bd68"
   },
   "outputs": [
    {
     "name": "stdout",
     "output_type": "stream",
     "text": [
      "15 is divisible by both 3 and 5.\n"
     ]
    }
   ],
   "source": [
    "# Exercise 5\n",
    "def is_divisible_by_3_and_5(number):\n",
    "    if number % 3 == 0 and number % 5 == 0:\n",
    "        return True\n",
    "    else:\n",
    "        return False\n",
    "num = 15\n",
    "if is_divisible_by_3_and_5(num):\n",
    "    print(f\"{num} is divisible by both 3 and 5.\")\n",
    "else:\n",
    "    print(f\"{num} is not divisible by both 3 and 5.\")\n"
   ]
  },
  {
   "cell_type": "markdown",
   "id": "b0348707",
   "metadata": {
    "id": "b0348707"
   },
   "source": [
    "\n",
    "---\n",
    "\n",
    "### Exercise 6:\n",
    "Write a Python program that prints \"Hot\" if the temperature is above 30, \"Warm\" if it is between 15 and 30, and \"Cold\" if it is below 15.\n"
   ]
  },
  {
   "cell_type": "code",
   "execution_count": 7,
   "id": "dfde8564",
   "metadata": {
    "id": "dfde8564"
   },
   "outputs": [
    {
     "name": "stdout",
     "output_type": "stream",
     "text": [
      "Warm\n"
     ]
    }
   ],
   "source": [
    "# Exercise 6\n",
    "def check_temperature(temp):\n",
    "    if temp > 30:\n",
    "        print(\"Hot\")\n",
    "    elif 15 <= temp <= 30:\n",
    "        print(\"Warm\")\n",
    "    else:\n",
    "        print(\"Cold\")\n",
    "temperature = 22\n",
    "check_temperature(temperature)  \n"
   ]
  },
  {
   "cell_type": "markdown",
   "id": "ec1d713e",
   "metadata": {
    "id": "ec1d713e"
   },
   "source": [
    "\n",
    "---\n",
    "\n",
    "### Exercise 7:\n",
    "Write a Python program that checks if a string contains the letter 'a'.\n"
   ]
  },
  {
   "cell_type": "code",
   "execution_count": 8,
   "id": "2eb30c57",
   "metadata": {
    "id": "2eb30c57"
   },
   "outputs": [
    {
     "name": "stdout",
     "output_type": "stream",
     "text": [
      "The string 'Banana' contains the letter 'a'.\n"
     ]
    }
   ],
   "source": [
    "# Exercise 7\n",
    "def contains_letter_a(s):\n",
    "    return 'a' in s.lower()\n",
    "text = \"Banana\"\n",
    "if contains_letter_a(text):\n",
    "    print(f\"The string '{text}' contains the letter 'a'.\")\n",
    "else:\n",
    "    print(f\"The string '{text}' does not contain the letter 'a'.\")\n"
   ]
  },
  {
   "cell_type": "markdown",
   "id": "8194f567",
   "metadata": {
    "id": "8194f567"
   },
   "source": [
    "\n",
    "---\n",
    "\n",
    "### Exercise 8:\n",
    "Write a Python function that checks if two numbers are equal, or which one is larger.\n"
   ]
  },
  {
   "cell_type": "code",
   "execution_count": 9,
   "id": "ede9943f",
   "metadata": {
    "id": "ede9943f"
   },
   "outputs": [
    {
     "name": "stdout",
     "output_type": "stream",
     "text": [
      "20 is larger than 10.\n"
     ]
    }
   ],
   "source": [
    "# Exercise 8\n",
    "def compare_numbers(a, b):\n",
    "    if a == b:\n",
    "        return \"Both numbers are equal.\"\n",
    "    elif a > b:\n",
    "        return f\"{a} is larger than {b}.\"\n",
    "    else:\n",
    "        return f\"{b} is larger than {a}.\"\n",
    "num1 = 10\n",
    "num2 = 20\n",
    "print(compare_numbers(num1, num2)) \n"
   ]
  },
  {
   "cell_type": "markdown",
   "id": "9e86c97f",
   "metadata": {
    "id": "9e86c97f"
   },
   "source": [
    "\n",
    "---\n",
    "\n",
    "### Exercise 9:\n",
    "Write a Python program that checks if a list is empty.\n"
   ]
  },
  {
   "cell_type": "code",
   "execution_count": 10,
   "id": "13738c3f",
   "metadata": {
    "id": "13738c3f"
   },
   "outputs": [
    {
     "name": "stdout",
     "output_type": "stream",
     "text": [
      "The list is empty.\n"
     ]
    }
   ],
   "source": [
    "# Exercise 9\n",
    "def is_list_empty(lst):\n",
    "    return len(lst) == 0\n",
    "my_list = []\n",
    "if is_list_empty(my_list):\n",
    "    print(\"The list is empty.\")\n",
    "else:\n",
    "    print(\"The list is not empty.\")\n"
   ]
  },
  {
   "cell_type": "markdown",
   "id": "645a85cc",
   "metadata": {
    "id": "645a85cc"
   },
   "source": [
    "\n",
    "---\n",
    "\n",
    "### Exercise 10:\n",
    "Write a Python function that takes two strings and checks if they are anagrams.\n"
   ]
  },
  {
   "cell_type": "code",
   "execution_count": 11,
   "id": "756b7d46",
   "metadata": {
    "id": "756b7d46"
   },
   "outputs": [
    {
     "name": "stdout",
     "output_type": "stream",
     "text": [
      "True\n"
     ]
    }
   ],
   "source": [
    "# Exercise 10\n",
    "def are_anagrams(str1, str2):\n",
    "    s1 = str1.replace(\" \", \"\").lower()\n",
    "    s2 = str2.replace(\" \", \"\").lower()\n",
    "    return sorted(s1) == sorted(s2)\n",
    "word1 = \"Listen\"\n",
    "word2 = \"Silent\"\n",
    "print(are_anagrams(word1, word2))  \n"
   ]
  },
  {
   "cell_type": "markdown",
   "id": "59ebce61",
   "metadata": {
    "id": "59ebce61"
   },
   "source": [
    "\n",
    "---\n",
    "\n",
    "### Exercise 11:\n",
    "Write a Python program that checks if a number is prime.\n"
   ]
  },
  {
   "cell_type": "code",
   "execution_count": 12,
   "id": "b077d9a1",
   "metadata": {
    "id": "b077d9a1"
   },
   "outputs": [
    {
     "name": "stdout",
     "output_type": "stream",
     "text": [
      "17 is a prime number.\n"
     ]
    }
   ],
   "source": [
    "# Exercise 11\n",
    "def is_prime(number):\n",
    "    if number <= 1:\n",
    "        return False\n",
    "    for i in range(2, int(number**0.5) + 1):\n",
    "        if number % i == 0:\n",
    "            return False\n",
    "    return True\n",
    "num = 17\n",
    "if is_prime(num):\n",
    "    print(f\"{num} is a prime number.\")\n",
    "else:\n",
    "    print(f\"{num} is not a prime number.\")\n"
   ]
  },
  {
   "cell_type": "markdown",
   "id": "531463b8",
   "metadata": {
    "id": "531463b8"
   },
   "source": [
    "\n",
    "---\n",
    "\n",
    "### Exercise 12:\n",
    "Write a Python program that checks if a list of numbers is sorted in ascending order.\n"
   ]
  },
  {
   "cell_type": "code",
   "execution_count": 14,
   "id": "01fc5a9e",
   "metadata": {
    "id": "01fc5a9e"
   },
   "outputs": [
    {
     "name": "stdout",
     "output_type": "stream",
     "text": [
      "True\n"
     ]
    }
   ],
   "source": [
    "# Exercise 12\n",
    "def is_sorted_ascending(numbers):\n",
    "    for i in range(len(numbers) - 1):\n",
    "        if numbers[i] > numbers[i + 1]:\n",
    "            return False\n",
    "    return True\n",
    "nums = [1, 2, 3, 4, 5]\n",
    "print(is_sorted_ascending(nums))  \n",
    "\n"
   ]
  },
  {
   "cell_type": "markdown",
   "id": "b15a0cca",
   "metadata": {
    "id": "b15a0cca"
   },
   "source": [
    "\n",
    "---\n",
    "\n",
    "### Exercise 13:\n",
    "Write a Python function that takes a character and checks if it is a digit.\n"
   ]
  },
  {
   "cell_type": "code",
   "execution_count": 21,
   "id": "2dc9a053",
   "metadata": {
    "id": "2dc9a053"
   },
   "outputs": [
    {
     "name": "stdout",
     "output_type": "stream",
     "text": [
      "True\n"
     ]
    }
   ],
   "source": [
    "# Exercise 13\n",
    "def is_digit(char):\n",
    "    if char.isdigit():\n",
    "        return True\n",
    "    else:\n",
    "        return False\n",
    "print(is_digit('7'))  \n",
    "  \n",
    "\n",
    "\n"
   ]
  },
  {
   "cell_type": "markdown",
   "id": "60190b10",
   "metadata": {
    "id": "60190b10"
   },
   "source": [
    "\n",
    "---\n",
    "\n",
    "### Exercise 14:\n",
    "Write a Python function that checks if a string contains only uppercase letters.\n"
   ]
  },
  {
   "cell_type": "code",
   "execution_count": 18,
   "id": "4ed8ebfa",
   "metadata": {
    "id": "4ed8ebfa"
   },
   "outputs": [
    {
     "name": "stdout",
     "output_type": "stream",
     "text": [
      "The string contains only uppercase letters.\n"
     ]
    }
   ],
   "source": [
    "# Exercise 14\n",
    "def check_all_uppercase(s):\n",
    "    if s.isalpha():\n",
    "        print(\"The string contains only uppercase letters.\")\n",
    "    else:\n",
    "        print(\"The string does NOT contain only uppercase letters.\")\n",
    "check_all_uppercase(\"HELLO\")   \n",
    "\n",
    "\n"
   ]
  },
  {
   "cell_type": "markdown",
   "id": "7f7dd4fd",
   "metadata": {
    "id": "7f7dd4fd"
   },
   "source": [
    "\n",
    "---\n",
    "\n",
    "### Exercise 15:\n",
    "Write a Python program that checks if a number is a multiple of 10.\n"
   ]
  },
  {
   "cell_type": "code",
   "execution_count": 22,
   "id": "e35d5709",
   "metadata": {
    "id": "e35d5709"
   },
   "outputs": [
    {
     "name": "stdout",
     "output_type": "stream",
     "text": [
      "50 is a multiple of 10.\n"
     ]
    }
   ],
   "source": [
    "# Exercise 15\n",
    "def is_multiple_of_10(number):\n",
    "    if number % 10 == 0:\n",
    "        return True\n",
    "    else:\n",
    "        return False\n",
    "num = 50\n",
    "if is_multiple_of_10(num):\n",
    "    print(f\"{num} is a multiple of 10.\")\n",
    "else:\n",
    "    print(f\"{num} is not a multiple of 10.\")\n"
   ]
  },
  {
   "cell_type": "markdown",
   "id": "83e1c5d3",
   "metadata": {
    "id": "83e1c5d3"
   },
   "source": [
    "\n",
    "---\n",
    "\n",
    "### Exercise 16:\n",
    "Write a Python function that checks if a list contains any duplicates.\n"
   ]
  },
  {
   "cell_type": "code",
   "execution_count": 24,
   "id": "24d52edd",
   "metadata": {
    "id": "24d52edd"
   },
   "outputs": [
    {
     "name": "stdout",
     "output_type": "stream",
     "text": [
      "True\n"
     ]
    }
   ],
   "source": [
    "# Exercise 16\n",
    "def has_duplicates(lst):\n",
    "    if len(lst) != len(set(lst)):\n",
    "        return True\n",
    "    else:\n",
    "        return False\n",
    "my_list = [1, 2, 3, 4, 2]\n",
    "print(has_duplicates(my_list)) \n",
    " \n"
   ]
  },
  {
   "cell_type": "markdown",
   "id": "d9533146",
   "metadata": {
    "id": "d9533146"
   },
   "source": [
    "\n",
    "---\n",
    "\n",
    "### Exercise 17:\n",
    "Write a Python program that prints \"Teenager\" if the age is between 13 and 19, otherwise it prints \"Not a teenager.\"\n"
   ]
  },
  {
   "cell_type": "code",
   "execution_count": 26,
   "id": "bd9212dd",
   "metadata": {
    "id": "bd9212dd"
   },
   "outputs": [
    {
     "name": "stdout",
     "output_type": "stream",
     "text": [
      "Teenager\n"
     ]
    }
   ],
   "source": [
    "# Exercise 17\n",
    "def check_teenager(age):\n",
    "    if 13 <= age <= 19:\n",
    "        print(\"Teenager\")\n",
    "    else:\n",
    "        print(\"Not a teenager.\")\n",
    "check_teenager(15)  \n",
    " \n"
   ]
  },
  {
   "cell_type": "markdown",
   "id": "370f2ba1",
   "metadata": {
    "id": "370f2ba1"
   },
   "source": [
    "\n",
    "---\n",
    "\n",
    "### Exercise 18:\n",
    "Write a Python function that checks if a list contains an element greater than 100.\n"
   ]
  },
  {
   "cell_type": "code",
   "execution_count": 27,
   "id": "23cde312",
   "metadata": {
    "id": "23cde312"
   },
   "outputs": [
    {
     "name": "stdout",
     "output_type": "stream",
     "text": [
      "True\n"
     ]
    }
   ],
   "source": [
    "# Exercise 18\n",
    "def contains_greater_than_100(lst):\n",
    "    for num in lst:\n",
    "        if num > 100:\n",
    "            return True\n",
    "    return False\n",
    "my_list = [50, 120, 30, 80]\n",
    "print(contains_greater_than_100(my_list)) \n",
    "\n"
   ]
  },
  {
   "cell_type": "markdown",
   "id": "322ae5e3",
   "metadata": {
    "id": "322ae5e3"
   },
   "source": [
    "\n",
    "---\n",
    "\n",
    "### Exercise 19:\n",
    "Write a Python program that checks if a number is even or odd.\n"
   ]
  },
  {
   "cell_type": "code",
   "execution_count": 28,
   "id": "a91bd104",
   "metadata": {
    "id": "a91bd104"
   },
   "outputs": [
    {
     "name": "stdout",
     "output_type": "stream",
     "text": [
      "10 is even.\n",
      "7 is odd.\n"
     ]
    }
   ],
   "source": [
    "# Exercise 19\n",
    "def check_even_odd(number):\n",
    "    if number % 2 == 0:\n",
    "        print(f\"{number} is even.\")\n",
    "    else:\n",
    "        print(f\"{number} is odd.\")\n",
    "check_even_odd(10)  \n",
    "check_even_odd(7)   \n"
   ]
  },
  {
   "cell_type": "markdown",
   "id": "98e0835d",
   "metadata": {
    "id": "98e0835d"
   },
   "source": [
    "\n",
    "---\n",
    "\n",
    "### Exercise 20:\n",
    "Write a Python function that checks if a string ends with a punctuation mark.\n"
   ]
  },
  {
   "cell_type": "code",
   "execution_count": 31,
   "id": "31fd2458",
   "metadata": {
    "id": "31fd2458"
   },
   "outputs": [
    {
     "name": "stdout",
     "output_type": "stream",
     "text": [
      "True\n"
     ]
    }
   ],
   "source": [
    "# Exercise 20\n",
    "import string\n",
    "\n",
    "def ends_with_punctuation(s):\n",
    "    if len(s) == 0:\n",
    "        return False  \n",
    "    \n",
    "    if s[-1] in string.punctuation:\n",
    "        return True\n",
    "    else:\n",
    "        return False\n",
    "print(ends_with_punctuation(\"Hello!\"))  # Output: True\n",
    "\n"
   ]
  },
  {
   "cell_type": "markdown",
   "id": "fb313702",
   "metadata": {
    "id": "fb313702"
   },
   "source": [
    "\n",
    "---\n",
    "\n",
    "### Exercise 21:\n",
    "Write a Python program that prints \"Yes\" if the number is between 1 and 100, otherwise it prints \"No.\"\n"
   ]
  },
  {
   "cell_type": "code",
   "execution_count": 32,
   "id": "e362bd56",
   "metadata": {
    "id": "e362bd56"
   },
   "outputs": [
    {
     "name": "stdin",
     "output_type": "stream",
     "text": [
      "Enter a number:  12\n"
     ]
    },
    {
     "name": "stdout",
     "output_type": "stream",
     "text": [
      "Yes\n"
     ]
    }
   ],
   "source": [
    "# Exercise 21\n",
    "def check_number(num):\n",
    "    if 1 <= num <= 100:\n",
    "        print(\"Yes\")\n",
    "    else:\n",
    "        print(\"No\")\n",
    "user_input = int(input(\"Enter a number: \"))\n",
    "check_number(user_input)\n"
   ]
  },
  {
   "cell_type": "markdown",
   "id": "3afeef94",
   "metadata": {
    "id": "3afeef94"
   },
   "source": [
    "\n",
    "---\n",
    "\n",
    "### Exercise 22:\n",
    "Write a Python program that checks if two strings have the same length.\n"
   ]
  },
  {
   "cell_type": "code",
   "execution_count": 33,
   "id": "73b75867",
   "metadata": {
    "id": "73b75867"
   },
   "outputs": [
    {
     "name": "stdout",
     "output_type": "stream",
     "text": [
      "Same length\n",
      "Different length\n"
     ]
    }
   ],
   "source": [
    "# Exercise 22\n",
    "def check_same_length(str1, str2):\n",
    "    if len(str1) == len(str2):\n",
    "        print(\"Same length\")\n",
    "    else:\n",
    "        print(\"Different length\")\n",
    "check_same_length(\"hello\", \"world\")  \n",
    "check_same_length(\"python\", \"java\") \n"
   ]
  },
  {
   "cell_type": "markdown",
   "id": "bdd8e2ae",
   "metadata": {
    "id": "bdd8e2ae"
   },
   "source": [
    "\n",
    "---\n",
    "\n",
    "### Exercise 23:\n",
    "Write a Python function that checks if a number is greater than its reverse.\n"
   ]
  },
  {
   "cell_type": "code",
   "execution_count": 34,
   "id": "da8ad2f4",
   "metadata": {
    "id": "da8ad2f4"
   },
   "outputs": [
    {
     "name": "stdout",
     "output_type": "stream",
     "text": [
      "True\n"
     ]
    }
   ],
   "source": [
    "# Exercise 23\n",
    "def is_greater_than_reverse(num):\n",
    "    reversed_num = int(str(num)[::-1])\n",
    "    \n",
    "    if num > reversed_num:\n",
    "        return True\n",
    "    else:\n",
    "        return False\n",
    "print(is_greater_than_reverse(321)) \n"
   ]
  },
  {
   "cell_type": "markdown",
   "id": "fab070bc",
   "metadata": {
    "id": "fab070bc"
   },
   "source": [
    "\n",
    "---\n",
    "\n",
    "### Exercise 24:\n",
    "Write a Python program that checks if a password contains both letters and numbers.\n"
   ]
  },
  {
   "cell_type": "code",
   "execution_count": 35,
   "id": "6e22f9b2",
   "metadata": {
    "id": "6e22f9b2"
   },
   "outputs": [
    {
     "name": "stdout",
     "output_type": "stream",
     "text": [
      "Valid password\n",
      "Invalid password\n"
     ]
    }
   ],
   "source": [
    "# Exercise 24\n",
    "def check_password_strength(password):\n",
    "    has_letter = any(char.isalpha() for char in password)\n",
    "    has_digit = any(char.isdigit() for char in password)\n",
    "\n",
    "    if has_letter and has_digit:\n",
    "        print(\"Valid password\")\n",
    "    else:\n",
    "        print(\"Invalid password\")\n",
    "check_password_strength(\"abc123\")  \n",
    "check_password_strength(\"abcdef\")  \n",
    "\n"
   ]
  },
  {
   "cell_type": "markdown",
   "id": "11cb6e7b",
   "metadata": {
    "id": "11cb6e7b"
   },
   "source": [
    "\n",
    "---\n",
    "\n",
    "### Exercise 25:\n",
    "Write a Python program that checks if a number is between two given numbers.\n"
   ]
  },
  {
   "cell_type": "code",
   "execution_count": 36,
   "id": "38cab028",
   "metadata": {
    "id": "38cab028"
   },
   "outputs": [
    {
     "name": "stdout",
     "output_type": "stream",
     "text": [
      "Yes\n"
     ]
    }
   ],
   "source": [
    "# Exercise 25\n",
    "def is_between(num, low, high):\n",
    "    if low <= num <= high:\n",
    "        print(\"Yes\")\n",
    "    else:\n",
    "        print(\"No\")\n",
    "is_between(15, 10, 20)  \n",
    "\n"
   ]
  },
  {
   "cell_type": "markdown",
   "id": "50b24a42",
   "metadata": {
    "id": "50b24a42"
   },
   "source": [
    "\n",
    "---\n",
    "\n",
    "### Exercise 26:\n",
    "Write a Python function that checks if all characters in a string are unique.\n"
   ]
  },
  {
   "cell_type": "code",
   "execution_count": 37,
   "id": "62537159",
   "metadata": {
    "id": "62537159"
   },
   "outputs": [
    {
     "name": "stdout",
     "output_type": "stream",
     "text": [
      "False\n",
      "True\n"
     ]
    }
   ],
   "source": [
    "# Exercise 26\n",
    "def all_unique_characters(s):\n",
    "    if len(s) == len(set(s)):\n",
    "        return True\n",
    "    else:\n",
    "        return False\n",
    "print(all_unique_characters(\"hello\"))   \n",
    "print(all_unique_characters(\"world\"))   \n"
   ]
  },
  {
   "cell_type": "markdown",
   "id": "54ffa82e",
   "metadata": {
    "id": "54ffa82e"
   },
   "source": [
    "\n",
    "---\n",
    "\n",
    "### Exercise 27:\n",
    "Write a Python program that checks if a number is a perfect square.\n"
   ]
  },
  {
   "cell_type": "code",
   "execution_count": 38,
   "id": "dd0707b7",
   "metadata": {
    "id": "dd0707b7"
   },
   "outputs": [
    {
     "name": "stdout",
     "output_type": "stream",
     "text": [
      "Perfect square\n"
     ]
    }
   ],
   "source": [
    "# Exercise 27\n",
    "def is_perfect_square(num):\n",
    "    if num < 0:\n",
    "        print(\"Not a perfect square\")\n",
    "        return\n",
    "\n",
    "    root = int(num ** 0.5)\n",
    "    if root * root == num:\n",
    "        print(\"Perfect square\")\n",
    "    else:\n",
    "        print(\"Not a perfect square\")\n",
    "is_perfect_square(25)   \n",
    "   \n"
   ]
  },
  {
   "cell_type": "markdown",
   "id": "78349b82",
   "metadata": {
    "id": "78349b82"
   },
   "source": [
    "\n",
    "---\n",
    "\n",
    "### Exercise 28:\n",
    "Write a Python function that checks if a word is a palindrome.\n"
   ]
  },
  {
   "cell_type": "code",
   "execution_count": 39,
   "id": "04056d04",
   "metadata": {
    "id": "04056d04"
   },
   "outputs": [
    {
     "name": "stdout",
     "output_type": "stream",
     "text": [
      "Palindrome\n",
      "Not a palindrome\n"
     ]
    }
   ],
   "source": [
    "# Exercise 28\n",
    "def is_palindrome(word):\n",
    "    word = word.lower()\n",
    "    \n",
    "    if word == word[::-1]:\n",
    "        print(\"Palindrome\")\n",
    "    else:\n",
    "        print(\"Not a palindrome\")\n",
    "is_palindrome(\"Racecar\")   \n",
    "is_palindrome(\"Python\")   \n"
   ]
  },
  {
   "cell_type": "markdown",
   "id": "9728cce0",
   "metadata": {
    "id": "9728cce0"
   },
   "source": [
    "\n",
    "---\n",
    "\n",
    "### Exercise 29:\n",
    "Write a Python program that prints \"Fizz\" if a number is divisible by 3, \"Buzz\" if it is divisible by 5, and \"FizzBuzz\" if divisible by both.\n"
   ]
  },
  {
   "cell_type": "code",
   "execution_count": 41,
   "id": "d3caedaa",
   "metadata": {
    "id": "d3caedaa"
   },
   "outputs": [
    {
     "name": "stdout",
     "output_type": "stream",
     "text": [
      "FizzBuzz\n",
      "Fizz\n",
      "Buzz\n"
     ]
    }
   ],
   "source": [
    "# Exercise 29\n",
    "def fizz_buzz(num):\n",
    " \n",
    "    if num % 3 == 0 and num % 5 == 0:\n",
    "        print(\"FizzBuzz\")\n",
    "    elif num % 3 == 0:\n",
    "        print(\"Fizz\")\n",
    "    elif num % 5 == 0:\n",
    "        print(\"Buzz\")\n",
    "    else:\n",
    "        print(num)\n",
    "fizz_buzz(15) \n",
    "fizz_buzz(9)   \n",
    "fizz_buzz(10)  \n",
    "  \n"
   ]
  },
  {
   "cell_type": "markdown",
   "id": "b3c19de5",
   "metadata": {
    "id": "b3c19de5"
   },
   "source": [
    "\n",
    "---\n",
    "\n",
    "### Exercise 30:\n",
    "Write a Python program that checks if the sum of the digits of a number is even.\n"
   ]
  },
  {
   "cell_type": "code",
   "execution_count": 43,
   "id": "1d8d47e4",
   "metadata": {
    "id": "1d8d47e4"
   },
   "outputs": [
    {
     "name": "stdout",
     "output_type": "stream",
     "text": [
      "Even sum\n",
      "Odd sum\n"
     ]
    }
   ],
   "source": [
    "# Exercise 30\n",
    "def is_digit_sum_even(num):\n",
    "    digit_sum = sum(int(digit) for digit in str(abs(num)))  \n",
    "    if digit_sum % 2 == 0:\n",
    "        print(\"Even sum\")\n",
    "    else:\n",
    "        print(\"Odd sum\") \n",
    "is_digit_sum_even(123)   \n",
    "is_digit_sum_even(135)  \n"
   ]
  },
  {
   "cell_type": "markdown",
   "id": "dbe78293",
   "metadata": {
    "id": "dbe78293"
   },
   "source": [
    "\n",
    "---\n",
    "\n",
    "### Exercise 31:\n",
    "Write a Python program that checks if a string is a valid email address.\n"
   ]
  },
  {
   "cell_type": "code",
   "execution_count": 45,
   "id": "dc64fe29",
   "metadata": {
    "id": "dc64fe29"
   },
   "outputs": [
    {
     "name": "stdout",
     "output_type": "stream",
     "text": [
      "Valid email\n",
      "Invalid email\n"
     ]
    }
   ],
   "source": [
    "# Exercise 31\n",
    "def is_valid_email(email):\n",
    "    if \"@\" in email and \".\" in email:\n",
    "        at_index = email.index(\"@\")\n",
    "        dot_index = email.rindex(\".\")\n",
    "        if at_index > 0 and dot_index > at_index + 1 and dot_index < len(email) - 1:\n",
    "            print(\"Valid email\")\n",
    "        else:\n",
    "            print(\"Invalid email\")\n",
    "    else:\n",
    "        print(\"Invalid email\")\n",
    "is_valid_email(\"user@example.com\")    \n",
    "is_valid_email(\"user@com\")            \n",
    "\n"
   ]
  },
  {
   "cell_type": "markdown",
   "id": "32922851",
   "metadata": {
    "id": "32922851"
   },
   "source": [
    "\n",
    "---\n",
    "\n",
    "### Exercise 32:\n",
    "Write a Python function that checks if a number is within 10 of 100 or 200.\n"
   ]
  },
  {
   "cell_type": "code",
   "execution_count": 46,
   "id": "c3ae205c",
   "metadata": {
    "id": "c3ae205c"
   },
   "outputs": [
    {
     "name": "stdout",
     "output_type": "stream",
     "text": [
      "Within range\n",
      "Out of range\n"
     ]
    }
   ],
   "source": [
    "# Exercise 32\n",
    "def within_10_of_100_or_200(num):\n",
    "    if abs(num - 100) <= 10 or abs(num - 200) <= 10:\n",
    "        print(\"Within range\")\n",
    "    else:\n",
    "        print(\"Out of range\")\n",
    "within_10_of_100_or_200(93)  \n",
    "within_10_of_100_or_200(85)   \n"
   ]
  },
  {
   "cell_type": "markdown",
   "id": "fedc8718",
   "metadata": {
    "id": "fedc8718"
   },
   "source": [
    "\n",
    "---\n",
    "\n",
    "### Exercise 33:\n",
    "Write a Python program that checks if a given string is a valid URL.\n"
   ]
  },
  {
   "cell_type": "code",
   "execution_count": 50,
   "id": "756593ce",
   "metadata": {
    "id": "756593ce"
   },
   "outputs": [
    {
     "name": "stdout",
     "output_type": "stream",
     "text": [
      "Valid URL\n"
     ]
    }
   ],
   "source": [
    "# Exercise 33\n",
    "from urllib.parse import urlparse\n",
    "\n",
    "def is_valid_url(url):\n",
    "    parsed = urlparse(url)\n",
    "    if parsed.scheme and parsed.netloc:\n",
    "        print(\"Valid URL\")\n",
    "    else:\n",
    "        print(\"Invalid URL\")\n",
    "is_valid_url(\"https://www.example.com\")  \n",
    "       \n",
    "\n"
   ]
  },
  {
   "cell_type": "markdown",
   "id": "13e8fcae",
   "metadata": {
    "id": "13e8fcae"
   },
   "source": [
    "\n",
    "---\n",
    "\n",
    "### Exercise 34:\n",
    "Write a Python program that checks if a list contains all even numbers.\n"
   ]
  },
  {
   "cell_type": "code",
   "execution_count": 49,
   "id": "e3069861",
   "metadata": {
    "id": "e3069861"
   },
   "outputs": [
    {
     "name": "stdout",
     "output_type": "stream",
     "text": [
      "Not all even\n"
     ]
    }
   ],
   "source": [
    "# Exercise 34\n",
    "def all_even(numbers):\n",
    "    if all(num % 2 == 0 for num in numbers):\n",
    "        print(\"All even\")\n",
    "    else:\n",
    "        print(\"Not all even\")   \n",
    "all_even([2, 3, 6, 8])    \n"
   ]
  },
  {
   "cell_type": "markdown",
   "id": "f19e5362",
   "metadata": {
    "id": "f19e5362"
   },
   "source": [
    "\n",
    "---\n",
    "\n",
    "### Exercise 35:\n",
    "Write a Python program that checks if a word is longer than a given length.\n"
   ]
  },
  {
   "cell_type": "code",
   "execution_count": 51,
   "id": "491df226",
   "metadata": {
    "id": "491df226"
   },
   "outputs": [
    {
     "name": "stdout",
     "output_type": "stream",
     "text": [
      "Longer\n"
     ]
    }
   ],
   "source": [
    "# Exercise 35\n",
    "def is_word_longer(word, length):\n",
    "    if len(word) > length:\n",
    "        print(\"Longer\")\n",
    "    else:\n",
    "        print(\"Not longer\")\n",
    "is_word_longer(\"hello\", 3)  \n",
    "\n"
   ]
  },
  {
   "cell_type": "markdown",
   "id": "68956c6c",
   "metadata": {
    "id": "68956c6c"
   },
   "source": [
    "\n",
    "---\n",
    "\n",
    "### Exercise 36:\n",
    "Write a Python program that checks if a list contains only positive numbers.\n"
   ]
  },
  {
   "cell_type": "code",
   "execution_count": 52,
   "id": "09112e89",
   "metadata": {
    "id": "09112e89"
   },
   "outputs": [
    {
     "name": "stdout",
     "output_type": "stream",
     "text": [
      "All positive\n"
     ]
    }
   ],
   "source": [
    "# Exercise 36\n",
    "def all_positive(numbers):\n",
    "    if all(num > 0 for num in numbers):\n",
    "        print(\"All positive\")\n",
    "    else:\n",
    "        print(\"Not all positive\")\n",
    "all_positive([1, 2, 3, 4])    \n",
    "\n"
   ]
  },
  {
   "cell_type": "markdown",
   "id": "14f0333b",
   "metadata": {
    "id": "14f0333b"
   },
   "source": [
    "\n",
    "---\n",
    "\n",
    "### Exercise 37:\n",
    "Write a Python function that checks if a year is a century year (i.e., divisible by 100).\n"
   ]
  },
  {
   "cell_type": "code",
   "execution_count": 53,
   "id": "9a0ee8fa",
   "metadata": {
    "id": "9a0ee8fa"
   },
   "outputs": [
    {
     "name": "stdout",
     "output_type": "stream",
     "text": [
      "Century year\n"
     ]
    }
   ],
   "source": [
    "# Exercise 37\n",
    "def is_century_year(year):\n",
    "    if year % 100 == 0:\n",
    "        print(\"Century year\")\n",
    "    else:\n",
    "        print(\"Not a century year\")\n",
    "is_century_year(1900) \n",
    "\n"
   ]
  },
  {
   "cell_type": "markdown",
   "id": "6271bb93",
   "metadata": {
    "id": "6271bb93"
   },
   "source": [
    "\n",
    "---\n",
    "\n",
    "### Exercise 38:\n",
    "Write a Python program that checks if the sum of a list of numbers is greater than 100.\n"
   ]
  },
  {
   "cell_type": "code",
   "execution_count": 54,
   "id": "6ddf783b",
   "metadata": {
    "id": "6ddf783b"
   },
   "outputs": [
    {
     "name": "stdout",
     "output_type": "stream",
     "text": [
      "Sum is greater than 100\n"
     ]
    }
   ],
   "source": [
    "# Exercise 38\n",
    "def is_sum_greater_than_100(numbers):\n",
    "    total = sum(numbers)\n",
    "    if total > 100:\n",
    "        print(\"Sum is greater than 100\")\n",
    "    else:\n",
    "        print(\"Sum is 100 or less\")\n",
    "is_sum_greater_than_100([10, 20, 30, 40, 5])    \n",
    "           \n"
   ]
  },
  {
   "cell_type": "markdown",
   "id": "8a8b88a8",
   "metadata": {
    "id": "8a8b88a8"
   },
   "source": [
    "\n",
    "---\n",
    "\n",
    "### Exercise 39:\n",
    "Write a Python function that checks if a given word is a substring of another string.\n"
   ]
  },
  {
   "cell_type": "code",
   "execution_count": 55,
   "id": "2d077065",
   "metadata": {
    "id": "2d077065"
   },
   "outputs": [
    {
     "name": "stdout",
     "output_type": "stream",
     "text": [
      "Substring found\n",
      "Substring not found\n"
     ]
    }
   ],
   "source": [
    "# Exercise 39\n",
    "def is_substring(word, text):\n",
    "    if word in text:\n",
    "        print(\"Substring found\")\n",
    "    else:\n",
    "        print(\"Substring not found\")\n",
    "is_substring(\"cat\", \"concatenation\")  \n",
    "is_substring(\"dog\", \"concatenation\")   "
   ]
  },
  {
   "cell_type": "markdown",
   "id": "b21a3bd9",
   "metadata": {
    "id": "b21a3bd9"
   },
   "source": [
    "\n",
    "---\n",
    "\n",
    "### Exercise 40:\n",
    "Write a Python program that checks if a number is a power of 2.\n"
   ]
  },
  {
   "cell_type": "code",
   "execution_count": 57,
   "id": "fa1ccd70",
   "metadata": {
    "id": "fa1ccd70"
   },
   "outputs": [
    {
     "name": "stdout",
     "output_type": "stream",
     "text": [
      "Power of 2\n",
      "Not a power of 2\n"
     ]
    }
   ],
   "source": [
    "# Exercise 40\n",
    "def is_power_of_two_loop(n):\n",
    "    if n < 1:\n",
    "        print(\"Not a power of 2\")\n",
    "        return\n",
    "\n",
    "    while n % 2 == 0:\n",
    "        n = n // 2\n",
    "    if n == 1:\n",
    "        print(\"Power of 2\")\n",
    "    else:\n",
    "        print(\"Not a power of 2\")\n",
    "is_power_of_two_loop(16)  \n",
    "is_power_of_two_loop(20)  \n",
    "\n"
   ]
  },
  {
   "cell_type": "markdown",
   "id": "5ecd119f",
   "metadata": {
    "id": "5ecd119f"
   },
   "source": [
    "\n",
    "---\n",
    "\n",
    "### Exercise 41:\n",
    "Write a Python function that checks if a string contains no spaces.\n"
   ]
  },
  {
   "cell_type": "code",
   "execution_count": 58,
   "id": "8017833e",
   "metadata": {
    "id": "8017833e"
   },
   "outputs": [
    {
     "name": "stdout",
     "output_type": "stream",
     "text": [
      "No spaces\n",
      "Contains spaces\n"
     ]
    }
   ],
   "source": [
    "# Exercise 41\n",
    "def has_no_spaces(text):\n",
    "    if \" \" in text:\n",
    "        print(\"Contains spaces\")\n",
    "    else:\n",
    "        print(\"No spaces\")\n",
    "has_no_spaces(\"HelloWorld\")     \n",
    "has_no_spaces(\"Hello World\")     \n"
   ]
  },
  {
   "cell_type": "markdown",
   "id": "9b3c2803",
   "metadata": {
    "id": "9b3c2803"
   },
   "source": [
    "\n",
    "---\n",
    "\n",
    "### Exercise 42:\n",
    "Write a Python program that prints \"Yes\" if a number is divisible by both 2 and 3, otherwise it prints \"No.\"\n"
   ]
  },
  {
   "cell_type": "code",
   "execution_count": 59,
   "id": "cdbf39a0",
   "metadata": {
    "id": "cdbf39a0"
   },
   "outputs": [
    {
     "name": "stdout",
     "output_type": "stream",
     "text": [
      "Yes\n",
      "No\n"
     ]
    }
   ],
   "source": [
    "# Exercise 42\n",
    "def check_divisible_by_2_and_3(number):\n",
    "    if number % 2 == 0 and number % 3 == 0:\n",
    "        print(\"Yes\")\n",
    "    else:\n",
    "        print(\"No\")\n",
    "check_divisible_by_2_and_3(12)   \n",
    "check_divisible_by_2_and_3(10)  \n"
   ]
  },
  {
   "cell_type": "markdown",
   "id": "5a691fcf",
   "metadata": {
    "id": "5a691fcf"
   },
   "source": [
    "\n",
    "---\n",
    "\n",
    "### Exercise 43:\n",
    "Write a Python program that checks if a number is a palindrome.\n"
   ]
  },
  {
   "cell_type": "code",
   "execution_count": 60,
   "id": "e7528a0b",
   "metadata": {
    "id": "e7528a0b"
   },
   "outputs": [
    {
     "name": "stdin",
     "output_type": "stream",
     "text": [
      "Enter a number to check:  11\n"
     ]
    },
    {
     "name": "stdout",
     "output_type": "stream",
     "text": [
      "Palindrome\n"
     ]
    }
   ],
   "source": [
    "# Exercise 43\n",
    "def is_palindrome_number(num):\n",
    "    num_str = str(num)\n",
    "    if num_str == num_str[::-1]:\n",
    "        print(\"Palindrome\")\n",
    "    else:\n",
    "        print(\"Not a palindrome\")\n",
    "number = int(input(\"Enter a number to check: \"))\n",
    "is_palindrome_number(number)\n"
   ]
  },
  {
   "cell_type": "markdown",
   "id": "49dfa276",
   "metadata": {
    "id": "49dfa276"
   },
   "source": [
    "\n",
    "---\n",
    "\n",
    "### Exercise 44:\n",
    "Write a Python function that checks if a string is made of only lowercase letters.\n"
   ]
  },
  {
   "cell_type": "code",
   "execution_count": 61,
   "id": "2aa39193",
   "metadata": {
    "id": "2aa39193"
   },
   "outputs": [
    {
     "name": "stdout",
     "output_type": "stream",
     "text": [
      "All lowercase\n",
      "Not all lowercase\n"
     ]
    }
   ],
   "source": [
    "# Exercise 44\n",
    "def is_all_lowercase(text):\n",
    "    if text.isalpha() and text == text.lower():\n",
    "        print(\"All lowercase\")\n",
    "    else:\n",
    "        print(\"Not all lowercase\")\n",
    "is_all_lowercase(\"hello\")  \n",
    "is_all_lowercase(\"Hello\")  \n"
   ]
  },
  {
   "cell_type": "markdown",
   "id": "e5ba21ba",
   "metadata": {
    "id": "e5ba21ba"
   },
   "source": [
    "\n",
    "---\n",
    "\n",
    "### Exercise 45:\n",
    "Write a Python program that checks if a string starts with a specific prefix.\n"
   ]
  },
  {
   "cell_type": "code",
   "execution_count": 64,
   "id": "e6670049",
   "metadata": {
    "id": "e6670049"
   },
   "outputs": [
    {
     "name": "stdout",
     "output_type": "stream",
     "text": [
      "Starts with prefix\n"
     ]
    }
   ],
   "source": [
    "# Exercise 45\n",
    "def starts_with_prefix(text, prefix):\n",
    "    if text.startswith(prefix):\n",
    "        print(\"Starts with prefix\")\n",
    "    else:\n",
    "        print(\"Does not start with prefix\")\n",
    "starts_with_prefix(\"hello world\", \"he\")   \n",
    "  \n"
   ]
  },
  {
   "cell_type": "markdown",
   "id": "1ee0a3b5",
   "metadata": {
    "id": "1ee0a3b5"
   },
   "source": [
    "\n",
    "---\n",
    "\n",
    "### Exercise 46:\n",
    "Write a Python function that checks if a number is divisible by any number in a given list.\n"
   ]
  },
  {
   "cell_type": "code",
   "execution_count": 65,
   "id": "7d01ccf9",
   "metadata": {
    "id": "7d01ccf9"
   },
   "outputs": [
    {
     "name": "stdout",
     "output_type": "stream",
     "text": [
      "Divisible\n",
      "Divisible\n",
      "Not divisible\n"
     ]
    }
   ],
   "source": [
    "# Exercise 46\n",
    "def is_divisible_by_any(number, divisors):\n",
    "    for d in divisors:\n",
    "        if d != 0 and number % d == 0:\n",
    "            print(\"Divisible\")\n",
    "            return\n",
    "    print(\"Not divisible\")\n",
    "is_divisible_by_any(15, [2, 3, 5])   \n",
    "is_divisible_by_any(14, [3, 5, 7])   \n",
    "is_divisible_by_any(11, [2, 4, 6])   \n"
   ]
  },
  {
   "cell_type": "markdown",
   "id": "1563300f",
   "metadata": {
    "id": "1563300f"
   },
   "source": [
    "\n",
    "---\n",
    "\n",
    "### Exercise 47:\n",
    "Write a Python program that prints \"Yes\" if a string has more than one occurrence of the same letter.\n"
   ]
  },
  {
   "cell_type": "code",
   "execution_count": 66,
   "id": "923dcbc1",
   "metadata": {
    "id": "923dcbc1"
   },
   "outputs": [
    {
     "name": "stdout",
     "output_type": "stream",
     "text": [
      "Yes\n",
      "No\n"
     ]
    }
   ],
   "source": [
    "# Exercise 47\n",
    "def has_duplicate_letters(text):\n",
    "    seen = set()\n",
    "    for char in text:\n",
    "        if char in seen:\n",
    "            print(\"Yes\")\n",
    "            return\n",
    "        seen.add(char)\n",
    "    print(\"No\")\n",
    "has_duplicate_letters(\"apple\")     \n",
    "has_duplicate_letters(\"dog\")       "
   ]
  },
  {
   "cell_type": "markdown",
   "id": "ecfb7eba",
   "metadata": {
    "id": "ecfb7eba"
   },
   "source": [
    "\n",
    "---\n",
    "\n",
    "### Exercise 48:\n",
    "Write a Python function that checks if a number is prime by dividing it by numbers up to its square root.\n"
   ]
  },
  {
   "cell_type": "code",
   "execution_count": 67,
   "id": "3492a570",
   "metadata": {
    "id": "3492a570"
   },
   "outputs": [
    {
     "name": "stdout",
     "output_type": "stream",
     "text": [
      "Prime\n",
      "Prime\n",
      "Not prime\n"
     ]
    }
   ],
   "source": [
    "# Exercise 48\n",
    "import math\n",
    "\n",
    "def is_prime(n):\n",
    "    if n <= 1:\n",
    "        print(\"Not prime\")\n",
    "        return\n",
    "    for i in range(2, int(math.sqrt(n)) + 1):\n",
    "        if n % i == 0:\n",
    "            print(\"Not prime\")\n",
    "            return\n",
    "    print(\"Prime\")\n",
    "is_prime(2)    \n",
    "is_prime(29)   \n",
    "is_prime(100)  \n"
   ]
  },
  {
   "cell_type": "markdown",
   "id": "efb3508c",
   "metadata": {
    "id": "efb3508c"
   },
   "source": [
    "\n",
    "---\n",
    "\n",
    "### Exercise 49:\n",
    "Write a Python program that checks if a number is within 1 of a multiple of 10.\n"
   ]
  },
  {
   "cell_type": "code",
   "execution_count": 69,
   "id": "fc272cc0",
   "metadata": {
    "id": "fc272cc0"
   },
   "outputs": [
    {
     "name": "stdout",
     "output_type": "stream",
     "text": [
      "Yes\n",
      "No\n"
     ]
    }
   ],
   "source": [
    "# Exercise 49\n",
    "def is_within_1_of_multiple_10(n):\n",
    "    if n % 10 == 1 or n % 10 == 9:\n",
    "        print(\"Yes\")\n",
    "    else:\n",
    "        print(\"No\")\n",
    "is_within_1_of_multiple_10(9) \n",
    "is_within_1_of_multiple_10(20)   \n"
   ]
  },
  {
   "cell_type": "markdown",
   "id": "8c58ab68",
   "metadata": {
    "id": "8c58ab68"
   },
   "source": [
    "\n",
    "---\n",
    "\n",
    "### Exercise 50:\n",
    "Write a Python program that prints \"In range\" if a number is between 10 and 20 (inclusive), otherwise it prints \"Out of range.\"\n"
   ]
  },
  {
   "cell_type": "code",
   "execution_count": 70,
   "id": "24ea2036",
   "metadata": {
    "id": "24ea2036"
   },
   "outputs": [
    {
     "name": "stdout",
     "output_type": "stream",
     "text": [
      "In range\n",
      "Out of range\n"
     ]
    }
   ],
   "source": [
    "# Exercise 50\n",
    "def check_range(n):\n",
    "    if 10 <= n <= 20:\n",
    "        print(\"In range\")\n",
    "    else:\n",
    "        print(\"Out of range\")\n",
    "check_range(15)  \n",
    "check_range(9)    \n"
   ]
  },
  {
   "cell_type": "markdown",
   "id": "87ccd774",
   "metadata": {
    "id": "87ccd774"
   },
   "source": [
    "\n",
    "---"
   ]
  }
 ],
 "metadata": {
  "colab": {
   "provenance": []
  },
  "kernelspec": {
   "display_name": "Python [conda env:base] *",
   "language": "python",
   "name": "conda-base-py"
  },
  "language_info": {
   "codemirror_mode": {
    "name": "ipython",
    "version": 3
   },
   "file_extension": ".py",
   "mimetype": "text/x-python",
   "name": "python",
   "nbconvert_exporter": "python",
   "pygments_lexer": "ipython3",
   "version": "3.12.7"
  }
 },
 "nbformat": 4,
 "nbformat_minor": 5
}
