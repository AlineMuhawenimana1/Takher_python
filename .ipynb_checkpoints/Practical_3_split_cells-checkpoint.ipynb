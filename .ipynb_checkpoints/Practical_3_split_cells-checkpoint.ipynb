{
 "cells": [
  {
   "cell_type": "markdown",
   "id": "cb9ebacc",
   "metadata": {
    "id": "cb9ebacc"
   },
   "source": [
    "# Practical_3: Iterable objects or Containers"
   ]
  },
  {
   "cell_type": "markdown",
   "id": "95af436e",
   "metadata": {
    "id": "95af436e"
   },
   "source": [
    "\n",
    "---\n",
    "\n",
    "### Exercise 1:\n",
    "Create a list of integers from 1 to 10.\n"
   ]
  },
  {
   "cell_type": "code",
   "execution_count": 23,
   "id": "c99db8f5",
   "metadata": {
    "id": "c99db8f5"
   },
   "outputs": [
    {
     "name": "stdout",
     "output_type": "stream",
     "text": [
      "[1, 2, 3, 4, 5, 6, 7, 8, 9, 10]\n"
     ]
    }
   ],
   "source": [
    "# Exercise 1\n",
    "list1=[1,2,3,4,5,6,7,8,9,10]\n",
    "print (list1)"
   ]
  },
  {
   "cell_type": "markdown",
   "id": "03698ae8",
   "metadata": {
    "id": "03698ae8"
   },
   "source": [
    "\n",
    "---\n",
    "\n",
    "### Exercise 2:\n",
    "Create a tuple containing the elements `\"apple\"`, `\"banana\"`, and `\"cherry\"`.\n"
   ]
  },
  {
   "cell_type": "code",
   "execution_count": 3,
   "id": "e8bad276",
   "metadata": {
    "id": "e8bad276"
   },
   "outputs": [
    {
     "name": "stdout",
     "output_type": "stream",
     "text": [
      "('apple', 'banana', 'cherry')\n"
     ]
    }
   ],
   "source": [
    "# Exercise 2\n",
    "fruits=(\"apple\", \"banana\", \"cherry\")\n",
    "print(fruits)"
   ]
  },
  {
   "cell_type": "markdown",
   "id": "f966d443",
   "metadata": {
    "id": "f966d443"
   },
   "source": [
    "\n",
    "---\n",
    "\n",
    "### Exercise 3:\n",
    "Convert the list `numbers = [10, 20, 30, 40]` into a tuple.\n"
   ]
  },
  {
   "cell_type": "code",
   "execution_count": 24,
   "id": "82f344f9",
   "metadata": {
    "id": "82f344f9"
   },
   "outputs": [
    {
     "name": "stdout",
     "output_type": "stream",
     "text": [
      "[10, 20, 30, 40]\n"
     ]
    }
   ],
   "source": [
    "# Exercise 3\n",
    "number3=[10,20,30,40]\n",
    "print(number3)"
   ]
  },
  {
   "cell_type": "markdown",
   "id": "e7116820",
   "metadata": {
    "id": "e7116820"
   },
   "source": [
    "\n",
    "---\n",
    "\n",
    "### Exercise 4:\n",
    "Create a set containing the elements `1, 2, 3, 4, 5`.\n"
   ]
  },
  {
   "cell_type": "code",
   "execution_count": 25,
   "id": "eeb3faad",
   "metadata": {
    "id": "eeb3faad"
   },
   "outputs": [
    {
     "name": "stdout",
     "output_type": "stream",
     "text": [
      "(1, 2, 3, 4, 5)\n"
     ]
    }
   ],
   "source": [
    "# Exercise 4\n",
    "set4=(1, 2, 3, 4, 5)\n",
    "print(set4)"
   ]
  },
  {
   "cell_type": "markdown",
   "id": "6ff44a5e",
   "metadata": {
    "id": "6ff44a5e"
   },
   "source": [
    "\n",
    "---\n",
    "\n",
    "### Exercise 5:\n",
    "Create a dictionary `student` with the keys `\"name\"`, `\"age\"`, and `\"grade\"` and corresponding values `\"Alice\"`, `20`, and `\"A\"`.\n"
   ]
  },
  {
   "cell_type": "code",
   "execution_count": 15,
   "id": "4343c280",
   "metadata": {
    "id": "4343c280"
   },
   "outputs": [
    {
     "name": "stdout",
     "output_type": "stream",
     "text": [
      "student name, age , grade: Alice 20 A\n"
     ]
    }
   ],
   "source": [
    "# Exercise 5\n",
    "student={ \"name\":\"Alice\",\"age\":20,\"grade\":\"A\"}\n",
    "print(\"student name, age , grade:\" ,student[\"name\"],student[\"age\"],student[\"grade\"])"
   ]
  },
  {
   "cell_type": "markdown",
   "id": "e6133eec",
   "metadata": {
    "id": "e6133eec"
   },
   "source": [
    "\n",
    "---\n",
    "\n",
    "### Exercise 6:\n",
    "Access the second element of the list `[10, 20, 30, 40, 50]` using indexing.\n"
   ]
  },
  {
   "cell_type": "code",
   "execution_count": 26,
   "id": "98325501",
   "metadata": {
    "id": "98325501"
   },
   "outputs": [
    {
     "name": "stdout",
     "output_type": "stream",
     "text": [
      "20\n"
     ]
    }
   ],
   "source": [
    "# Exercise 6\n",
    "list6=[10, 20, 30, 40, 50]\n",
    "print(list6[1])"
   ]
  },
  {
   "cell_type": "markdown",
   "id": "6ad0cee3",
   "metadata": {
    "id": "6ad0cee3"
   },
   "source": [
    "\n",
    "---\n",
    "\n",
    "### Exercise 7:\n",
    "Change the third element of the list `fruits = [\"apple\", \"banana\", \"cherry\", \"orange\"]` to `\"mango\"`.\n"
   ]
  },
  {
   "cell_type": "code",
   "execution_count": 17,
   "id": "edf8e912",
   "metadata": {
    "id": "edf8e912"
   },
   "outputs": [
    {
     "name": "stdout",
     "output_type": "stream",
     "text": [
      "['apple', 'banana', 'mango', 'orange']\n"
     ]
    }
   ],
   "source": [
    "# Exercise 7\n",
    "fruits = [\"apple\", \"banana\", \"cherry\", \"orange\"]\n",
    "fruits[2]=(\"mango\")\n",
    "print(fruits)"
   ]
  },
  {
   "cell_type": "markdown",
   "id": "113d5721",
   "metadata": {
    "id": "113d5721"
   },
   "source": [
    "\n",
    "---\n",
    "\n",
    "### Exercise 8:\n",
    "Add the number `6` to the set `numbers = {1, 2, 3, 4, 5}`.\n"
   ]
  },
  {
   "cell_type": "code",
   "execution_count": 20,
   "id": "201e7dd8",
   "metadata": {
    "id": "201e7dd8"
   },
   "outputs": [
    {
     "name": "stdout",
     "output_type": "stream",
     "text": [
      "{1, 2, 3, 4, 5, 6}\n"
     ]
    }
   ],
   "source": [
    "# Exercise 8\n",
    "numbers = {1, 2, 3, 4, 5}\n",
    "numbers.add(6)\n",
    "print(numbers)"
   ]
  },
  {
   "cell_type": "markdown",
   "id": "1fbe664f",
   "metadata": {
    "id": "1fbe664f"
   },
   "source": [
    "\n",
    "---\n",
    "\n",
    "### Exercise 9:\n",
    "Remove the key `\"age\"` from the dictionary `person = {\"name\": \"John\", \"age\": 25, \"city\": \"New York\"}`.\n"
   ]
  },
  {
   "cell_type": "code",
   "execution_count": 22,
   "id": "9df67448",
   "metadata": {
    "id": "9df67448"
   },
   "outputs": [
    {
     "name": "stdout",
     "output_type": "stream",
     "text": [
      "{'name': 'John', 'city': 'New York'}\n"
     ]
    }
   ],
   "source": [
    "# Exercise 9\n",
    "person = {\"name\": \"John\", \"age\": 25, \"city\": \"New York\"}\n",
    "del person[\"age\"]\n",
    "print(person)"
   ]
  },
  {
   "cell_type": "markdown",
   "id": "7b3e4700",
   "metadata": {
    "id": "7b3e4700"
   },
   "source": [
    "\n",
    "---\n",
    "\n",
    "### Exercise 10:\n",
    "Create a range object starting from 0 to 9.\n"
   ]
  },
  {
   "cell_type": "code",
   "execution_count": 32,
   "id": "5debcc0f",
   "metadata": {
    "id": "5debcc0f"
   },
   "outputs": [
    {
     "name": "stdout",
     "output_type": "stream",
     "text": [
      "0\n",
      "1\n",
      "2\n",
      "3\n",
      "4\n",
      "5\n",
      "6\n",
      "7\n",
      "8\n"
     ]
    }
   ],
   "source": [
    "# Exercise 10\n",
    "for i in range(0,9):\n",
    " print(i)"
   ]
  },
  {
   "cell_type": "markdown",
   "id": "c252718b",
   "metadata": {
    "id": "c252718b"
   },
   "source": [
    "\n",
    "---\n",
    "\n",
    "### Exercise 11:\n",
    "Use a list comprehension to create a list of squares of numbers from 1 to 10.\n"
   ]
  },
  {
   "cell_type": "code",
   "execution_count": 52,
   "id": "05398773",
   "metadata": {
    "id": "05398773"
   },
   "outputs": [
    {
     "name": "stdout",
     "output_type": "stream",
     "text": [
      "1\n",
      "4\n",
      "9\n",
      "16\n",
      "25\n",
      "36\n",
      "49\n",
      "64\n",
      "81\n"
     ]
    }
   ],
   "source": [
    "# Exercise 11\n",
    "for j in range(1, 10):\n",
    "  print(j**2)\n"
   ]
  },
  {
   "cell_type": "markdown",
   "id": "3768839d",
   "metadata": {
    "id": "3768839d"
   },
   "source": [
    "\n",
    "---\n",
    "\n",
    "### Exercise 12:\n",
    "Create a tuple of even numbers between 2 and 10 using a tuple comprehension.\n"
   ]
  },
  {
   "cell_type": "code",
   "execution_count": 55,
   "id": "b835355f",
   "metadata": {
    "id": "b835355f"
   },
   "outputs": [
    {
     "name": "stdout",
     "output_type": "stream",
     "text": [
      "2\n",
      "4\n",
      "6\n",
      "8\n"
     ]
    }
   ],
   "source": [
    "# Exercise 12\n",
    "for a in range(2,10,2):\n",
    "    print(a)"
   ]
  },
  {
   "cell_type": "markdown",
   "id": "101d1b59",
   "metadata": {
    "id": "101d1b59"
   },
   "source": [
    "\n",
    "---\n",
    "\n",
    "### Exercise 13:\n",
    "Use a for loop to iterate through the list `fruits = [\"apple\", \"banana\", \"cherry\"]` and print each element.\n"
   ]
  },
  {
   "cell_type": "code",
   "execution_count": 56,
   "id": "27fccbc4",
   "metadata": {
    "id": "27fccbc4"
   },
   "outputs": [
    {
     "name": "stdout",
     "output_type": "stream",
     "text": [
      "apple\n",
      "banana\n",
      "cherry\n"
     ]
    }
   ],
   "source": [
    "# Exercise 13\n",
    "fruits = [\"apple\", \"banana\", \"cherry\"]\n",
    "for i in fruits:\n",
    "    print(i)"
   ]
  },
  {
   "cell_type": "markdown",
   "id": "a44c67a3",
   "metadata": {
    "id": "a44c67a3"
   },
   "source": [
    "\n",
    "---\n",
    "\n",
    "### Exercise 14:\n",
    "Check if the value `3` exists in the set `numbers = {1, 2, 3, 4, 5}`.\n"
   ]
  },
  {
   "cell_type": "code",
   "execution_count": 65,
   "id": "0905153a-0a4a-4658-81c3-a3383295cc9a",
   "metadata": {},
   "outputs": [
    {
     "name": "stdout",
     "output_type": "stream",
     "text": [
      "True\n"
     ]
    }
   ],
   "source": [
    "# exercise 14\n",
    "numbers = {1, 2, 3, 4, 5}\n",
    "print(3 in numbers)"
   ]
  },
  {
   "cell_type": "markdown",
   "id": "c80a4ba4",
   "metadata": {
    "id": "c80a4ba4"
   },
   "source": [
    "\n",
    "---\n",
    "\n",
    "### Exercise 15:\n",
    "Use the `len()` function to find the length of the tuple `numbers = (10, 20, 30)`.\n"
   ]
  },
  {
   "cell_type": "code",
   "execution_count": 66,
   "id": "72e1068d",
   "metadata": {
    "id": "72e1068d"
   },
   "outputs": [
    {
     "data": {
      "text/plain": [
       "3"
      ]
     },
     "execution_count": 66,
     "metadata": {},
     "output_type": "execute_result"
    }
   ],
   "source": [
    "# Exercise 15\n",
    "numbers = (10, 20, 30)\n",
    "len(numbers)"
   ]
  },
  {
   "cell_type": "markdown",
   "id": "f78e5ff8-0c8f-42a1-9474-301f65b8d064",
   "metadata": {
    "id": "3a6f2e42"
   },
   "source": [
    "# Exercise 16"
   ]
  },
  {
   "cell_type": "code",
   "execution_count": null,
   "id": "1c085bc3-6df7-4c75-8295-5b6b236c8989",
   "metadata": {},
   "outputs": [],
   "source": [
    "add the value 100 at the end of the list score=[80,85,90,95]"
   ]
  },
  {
   "cell_type": "code",
   "execution_count": 73,
   "id": "d4ce7f0c-2c5b-44c3-9ca3-a7294eae77c0",
   "metadata": {},
   "outputs": [
    {
     "name": "stdout",
     "output_type": "stream",
     "text": [
      "[80, 85, 90, 95, 100]\n"
     ]
    }
   ],
   "source": [
    "# exercise 16\n",
    "score=[80,85,90,95]\n",
    "score.append(100)\n",
    "print(score)"
   ]
  },
  {
   "cell_type": "markdown",
   "id": "0ee5adfc",
   "metadata": {
    "id": "0ee5adfc"
   },
   "source": [
    "\n",
    "---\n",
    "\n",
    "### Exercise 17:\n",
    "Write a function that takes a list as input and returns the sum of all elements in the list.\n"
   ]
  },
  {
   "cell_type": "code",
   "execution_count": 75,
   "id": "c345753d",
   "metadata": {
    "id": "c345753d"
   },
   "outputs": [
    {
     "name": "stdout",
     "output_type": "stream",
     "text": [
      "15\n"
     ]
    }
   ],
   "source": [
    "# Exercise 17\n",
    "my_list = [1, 2, 3, 4, 5]\n",
    "result = sum(my_list)\n",
    "print(result)\n"
   ]
  },
  {
   "cell_type": "markdown",
   "id": "35d5d0b1",
   "metadata": {
    "id": "35d5d0b1"
   },
   "source": [
    "\n",
    "---\n",
    "\n",
    "### Exercise 18:\n",
    "Create a set containing the unique elements of the list `numbers = [1, 2, 2, 3, 4, 4, 5]`.\n"
   ]
  },
  {
   "cell_type": "code",
   "execution_count": 1,
   "id": "e2f801ad",
   "metadata": {
    "id": "e2f801ad"
   },
   "outputs": [
    {
     "name": "stdout",
     "output_type": "stream",
     "text": [
      "{1, 2, 3, 4, 5}\n"
     ]
    }
   ],
   "source": [
    "# Exercise 18\n",
    "c= [1, 2, 2, 3, 4, 4, 5]\n",
    "c=set(c)\n",
    "print(c)\n"
   ]
  },
  {
   "cell_type": "markdown",
   "id": "6c102900",
   "metadata": {
    "id": "6c102900"
   },
   "source": [
    "\n",
    "---\n",
    "\n",
    "### Exercise 19:\n",
    "Convert the string `\"hello\"` into a list of characters.\n"
   ]
  },
  {
   "cell_type": "code",
   "execution_count": 3,
   "id": "07c63fed",
   "metadata": {
    "id": "07c63fed"
   },
   "outputs": [
    {
     "name": "stdout",
     "output_type": "stream",
     "text": [
      "['h', 'e', 'l', 'l', 'o']\n"
     ]
    }
   ],
   "source": [
    "# Exercise 19\n",
    "a=\"hello\"\n",
    "a=list(a)\n",
    "print(a)"
   ]
  },
  {
   "cell_type": "markdown",
   "id": "c22d6b97",
   "metadata": {
    "id": "c22d6b97"
   },
   "source": [
    "\n",
    "---\n",
    "\n",
    "### Exercise 20:\n",
    "Write a Python function that reverses a tuple `(1, 2, 3, 4)`.\n"
   ]
  },
  {
   "cell_type": "code",
   "execution_count": 9,
   "id": "e2a7b1be",
   "metadata": {
    "id": "e2a7b1be"
   },
   "outputs": [
    {
     "name": "stdout",
     "output_type": "stream",
     "text": [
      "(4, 3, 2, 1)\n"
     ]
    }
   ],
   "source": [
    "# Exercise 20\n",
    "def reverse_tuple(t):\n",
    "    return t[::-1]\n",
    "my_tuple = (1, 2, 3, 4)\n",
    "reversed_tuple = reverse_tuple(my_tuple)\n",
    "print(reversed_tuple)"
   ]
  },
  {
   "cell_type": "markdown",
   "id": "4c12cf45",
   "metadata": {
    "id": "4c12cf45"
   },
   "source": [
    "\n",
    "---\n",
    "\n",
    "### Exercise 21:\n",
    "Merge two dictionaries `dict1 = {\"a\": 1, \"b\": 2}` and `dict2 = {\"c\": 3, \"d\": 4}` into a single dictionary.\n"
   ]
  },
  {
   "cell_type": "code",
   "execution_count": 10,
   "id": "537c61a1",
   "metadata": {
    "id": "537c61a1"
   },
   "outputs": [
    {
     "name": "stdout",
     "output_type": "stream",
     "text": [
      "{'a': 1, 'b': 2, 'c': 3, 'd': 4}\n"
     ]
    }
   ],
   "source": [
    "# Exercise 21\n",
    "dict1 = {\"a\": 1, \"b\": 2}\n",
    "dict2 = {\"c\": 3, \"d\": 4}\n",
    "\n",
    "merged_dict = dict1.copy() \n",
    "merged_dict.update(dict2)\n",
    "print(merged_dict)"
   ]
  },
  {
   "cell_type": "markdown",
   "id": "752fc2f0",
   "metadata": {
    "id": "752fc2f0"
   },
   "source": [
    "\n",
    "---\n",
    "\n",
    "### Exercise 22:\n",
    "Create a dictionary where keys are numbers from 1 to 5, and values are their squares.\n"
   ]
  },
  {
   "cell_type": "code",
   "execution_count": 11,
   "id": "f4b8b50a",
   "metadata": {
    "id": "f4b8b50a"
   },
   "outputs": [
    {
     "name": "stdout",
     "output_type": "stream",
     "text": [
      "{1: 1, 2: 4, 3: 9, 4: 16, 5: 25}\n"
     ]
    }
   ],
   "source": [
    "# Exercise 22\n",
    "squares = {x: x**2 for x in range(1, 6)}\n",
    "print(squares)\n"
   ]
  },
  {
   "cell_type": "markdown",
   "id": "87925b31",
   "metadata": {
    "id": "87925b31"
   },
   "source": [
    "\n",
    "---\n",
    "\n",
    "### Exercise 23:\n",
    "Write a Python program to iterate through a dictionary and print each key-value pair.\n"
   ]
  },
  {
   "cell_type": "code",
   "execution_count": 12,
   "id": "65c5827c",
   "metadata": {
    "id": "65c5827c"
   },
   "outputs": [
    {
     "name": "stdout",
     "output_type": "stream",
     "text": [
      "Key: name, Value: Alice\n",
      "Key: age, Value: 25\n",
      "Key: city, Value: New York\n"
     ]
    }
   ],
   "source": [
    "# Exercise 23\n",
    "my_dict = {\"name\": \"Alice\", \"age\": 25, \"city\": \"New York\"}\n",
    "\n",
    "for key, value in my_dict.items():\n",
    "    print(f\"Key: {key}, Value: {value}\")\n"
   ]
  },
  {
   "cell_type": "markdown",
   "id": "291aba22",
   "metadata": {
    "id": "291aba22"
   },
   "source": [
    "\n",
    "---\n",
    "\n",
    "### Exercise 24:\n",
    "Create a list of the first 5 letters of the alphabet using the `chr()` function.\n"
   ]
  },
  {
   "cell_type": "code",
   "execution_count": 13,
   "id": "ad91182e",
   "metadata": {
    "id": "ad91182e"
   },
   "outputs": [
    {
     "name": "stdout",
     "output_type": "stream",
     "text": [
      "['a', 'b', 'c', 'd', 'e']\n"
     ]
    }
   ],
   "source": [
    "# Exercise 24\n",
    "letters = [chr(i) for i in range(97, 102)]\n",
    "print(letters)\n"
   ]
  },
  {
   "cell_type": "markdown",
   "id": "b26fbe9e",
   "metadata": {
    "id": "b26fbe9e"
   },
   "source": [
    "\n",
    "---\n",
    "\n",
    "### Exercise 25:\n",
    "Use the `zip()` function to combine two lists `[1, 2, 3]` and `[\"a\", \"b\", \"c\"]` into a list of tuples.\n"
   ]
  },
  {
   "cell_type": "code",
   "execution_count": 14,
   "id": "acbd5a20",
   "metadata": {
    "id": "acbd5a20"
   },
   "outputs": [
    {
     "name": "stdout",
     "output_type": "stream",
     "text": [
      "[(1, 'a'), (2, 'b'), (3, 'c')]\n"
     ]
    }
   ],
   "source": [
    "# Exercise 25\n",
    "list1 = [1, 2, 3]\n",
    "list2 = [\"a\", \"b\", \"c\"]\n",
    "\n",
    "combined = list(zip(list1, list2))\n",
    "print(combined)\n"
   ]
  },
  {
   "cell_type": "markdown",
   "id": "fb1b544b",
   "metadata": {
    "id": "fb1b544b"
   },
   "source": [
    "\n",
    "---\n",
    "\n",
    "### Exercise 26:\n",
    "Find the index of the value `50` in the list `[10, 20, 30, 40, 50]`.\n"
   ]
  },
  {
   "cell_type": "code",
   "execution_count": 15,
   "id": "4be341e2",
   "metadata": {
    "id": "4be341e2"
   },
   "outputs": [
    {
     "name": "stdout",
     "output_type": "stream",
     "text": [
      "4\n"
     ]
    }
   ],
   "source": [
    "# Exercise 26\n",
    "my_list = [10, 20, 30, 40, 50]\n",
    "index_of_50 = my_list.index(50)\n",
    "print(index_of_50)"
   ]
  },
  {
   "cell_type": "markdown",
   "id": "cc1f1bbc",
   "metadata": {
    "id": "cc1f1bbc"
   },
   "source": [
    "\n",
    "---\n",
    "\n",
    "### Exercise 27:\n",
    "Sort the list `names = [\"Alice\", \"Bob\", \"Charlie\", \"David\"]` in alphabetical order.\n"
   ]
  },
  {
   "cell_type": "code",
   "execution_count": 16,
   "id": "5da06905",
   "metadata": {
    "id": "5da06905"
   },
   "outputs": [
    {
     "name": "stdout",
     "output_type": "stream",
     "text": [
      "['Alice', 'Bob', 'Charlie', 'David']\n"
     ]
    }
   ],
   "source": [
    "# Exercise 27\n",
    "names = [\"Alice\", \"Bob\", \"Charlie\", \"David\"]\n",
    "names.sort()\n",
    "print(names)\n"
   ]
  },
  {
   "cell_type": "markdown",
   "id": "cac11304",
   "metadata": {
    "id": "cac11304"
   },
   "source": [
    "\n",
    "---\n",
    "\n",
    "### Exercise 28:\n",
    "Write a Python function that takes a list of integers as input and returns the largest number.\n"
   ]
  },
  {
   "cell_type": "code",
   "execution_count": 17,
   "id": "1bfc6919",
   "metadata": {
    "id": "1bfc6919"
   },
   "outputs": [
    {
     "name": "stdout",
     "output_type": "stream",
     "text": [
      "9\n"
     ]
    }
   ],
   "source": [
    "# Exercise 28\n",
    "def find_largest(numbers):\n",
    "    if not numbers:\n",
    "        return None  \n",
    "    largest = numbers[0]\n",
    "    for num in numbers:\n",
    "        if num > largest:\n",
    "            largest = num\n",
    "    return largest\n",
    "\n",
    "# Example usage:\n",
    "nums = [3, 7, 2, 9, 5]\n",
    "print(find_largest(nums))  \n"
   ]
  },
  {
   "cell_type": "markdown",
   "id": "d90195b7",
   "metadata": {
    "id": "d90195b7"
   },
   "source": [
    "\n",
    "---\n",
    "\n",
    "### Exercise 29:\n",
    "Use the `count()` method to count how many times `\"apple\"` appears in the list `fruits = [\"apple\", \"banana\", \"apple\", \"orange\"]`.\n"
   ]
  },
  {
   "cell_type": "code",
   "execution_count": 18,
   "id": "8a8448c7",
   "metadata": {
    "id": "8a8448c7"
   },
   "outputs": [
    {
     "name": "stdout",
     "output_type": "stream",
     "text": [
      "2\n"
     ]
    }
   ],
   "source": [
    "# Exercise 29\n",
    "fruits = [\"apple\", \"banana\", \"apple\", \"orange\"]\n",
    "apple_count = fruits.count(\"apple\")\n",
    "print(apple_count)\n"
   ]
  },
  {
   "cell_type": "markdown",
   "id": "45c41ffe",
   "metadata": {
    "id": "45c41ffe"
   },
   "source": [
    "\n",
    "---\n",
    "\n",
    "### Exercise 30:\n",
    "Create a dictionary `person` where keys are `\"name\"`, `\"age\"`, and `\"city\"`, and values are `\"Alice\"`, `25`, and `\"New York\"` respectively. Then access the value of the `\"city\"` key.\n"
   ]
  },
  {
   "cell_type": "code",
   "execution_count": 19,
   "id": "01c8b6e2",
   "metadata": {
    "id": "01c8b6e2"
   },
   "outputs": [
    {
     "name": "stdout",
     "output_type": "stream",
     "text": [
      "New York\n"
     ]
    }
   ],
   "source": [
    "# Exercise 30\n",
    "person = {\n",
    "    \"name\": \"Alice\",\n",
    "    \"age\": 25,\n",
    "    \"city\": \"New York\"\n",
    "}\n",
    "\n",
    "# Access the value of the \"city\" key\n",
    "city_value = person[\"city\"]\n",
    "print(city_value)\n"
   ]
  },
  {
   "cell_type": "markdown",
   "id": "0b95c68b",
   "metadata": {
    "id": "0b95c68b"
   },
   "source": [
    "\n",
    "---\n",
    "\n",
    "### Exercise 31:\n",
    "Write a Python function that takes a list as input and returns a new list with all duplicates removed.\n"
   ]
  },
  {
   "cell_type": "code",
   "execution_count": 20,
   "id": "5fc377d7",
   "metadata": {
    "id": "5fc377d7"
   },
   "outputs": [
    {
     "name": "stdout",
     "output_type": "stream",
     "text": [
      "[1, 2, 3, 4, 5]\n"
     ]
    }
   ],
   "source": [
    "# Exercise 31\n",
    "def remove_duplicates(input_list):\n",
    "    seen = set()\n",
    "    result = []\n",
    "    for item in input_list:\n",
    "        if item not in seen:\n",
    "            seen.add(item)\n",
    "            result.append(item)\n",
    "    return result\n",
    "\n",
    "# Example usage:\n",
    "my_list = [1, 2, 2, 3, 4, 4, 5]\n",
    "print(remove_duplicates(my_list)) \n"
   ]
  },
  {
   "cell_type": "markdown",
   "id": "8ee587cd",
   "metadata": {
    "id": "8ee587cd"
   },
   "source": [
    "\n",
    "---\n",
    "\n",
    "### Exercise 32:\n",
    "Write a Python function that takes two lists and returns their intersection.\n"
   ]
  },
  {
   "cell_type": "code",
   "execution_count": 21,
   "id": "dd7c0e7a",
   "metadata": {
    "id": "dd7c0e7a"
   },
   "outputs": [
    {
     "name": "stdout",
     "output_type": "stream",
     "text": [
      "[3, 4]\n"
     ]
    }
   ],
   "source": [
    "# Exercise 32\n",
    "def list_intersection(list1, list2):\n",
    "    return list(set(list1) & set(list2))\n",
    "\n",
    "# Example usage:\n",
    "a = [1, 2, 3, 4]\n",
    "b = [3, 4, 5, 6]\n",
    "print(list_intersection(a, b)) \n"
   ]
  },
  {
   "cell_type": "markdown",
   "id": "57d89740",
   "metadata": {
    "id": "57d89740"
   },
   "source": [
    "\n",
    "---\n",
    "\n",
    "### Exercise 33:\n",
    "Create a generator that yields the squares of numbers from 1 to 10.\n"
   ]
  },
  {
   "cell_type": "code",
   "execution_count": 22,
   "id": "b83f66a7",
   "metadata": {
    "id": "b83f66a7"
   },
   "outputs": [
    {
     "name": "stdout",
     "output_type": "stream",
     "text": [
      "1\n",
      "4\n",
      "9\n",
      "16\n",
      "25\n",
      "36\n",
      "49\n",
      "64\n",
      "81\n",
      "100\n"
     ]
    }
   ],
   "source": [
    "# Exercise 33\n",
    "def square_generator():\n",
    "    for i in range(1, 11):\n",
    "        yield i ** 2\n",
    "for square in square_generator():\n",
    "    print(square)\n"
   ]
  },
  {
   "cell_type": "markdown",
   "id": "662d4f36",
   "metadata": {
    "id": "662d4f36"
   },
   "source": [
    "\n",
    "---\n",
    "\n",
    "### Exercise 34:\n",
    "Write a Python function that takes a dictionary as input and returns the sum of all its values.\n"
   ]
  },
  {
   "cell_type": "code",
   "execution_count": 23,
   "id": "7c119210",
   "metadata": {
    "id": "7c119210"
   },
   "outputs": [
    {
     "name": "stdout",
     "output_type": "stream",
     "text": [
      "60\n"
     ]
    }
   ],
   "source": [
    "# Exercise 34\n",
    "def sum_dict_values(d):\n",
    "    return sum(d.values())\n",
    "\n",
    "my_dict = {\"a\": 10, \"b\": 20, \"c\": 30}\n",
    "print(sum_dict_values(my_dict))  # Output: 60\n"
   ]
  },
  {
   "cell_type": "markdown",
   "id": "6e6330bd",
   "metadata": {
    "id": "6e6330bd"
   },
   "source": [
    "\n",
    "---\n",
    "\n",
    "### Exercise 35:\n",
    "Use the `sorted()` function to sort the list `[3, 1, 4, 1, 5, 9]` in ascending order.\n"
   ]
  },
  {
   "cell_type": "code",
   "execution_count": 24,
   "id": "cc89b4b3",
   "metadata": {
    "id": "cc89b4b3"
   },
   "outputs": [
    {
     "name": "stdout",
     "output_type": "stream",
     "text": [
      "[1, 1, 3, 4, 5, 9]\n"
     ]
    }
   ],
   "source": [
    "# Exercise 35\n",
    "nums = [3, 1, 4, 1, 5, 9]\n",
    "sorted_nums = sorted(nums)\n",
    "print(sorted_nums)\n"
   ]
  },
  {
   "cell_type": "markdown",
   "id": "a0faab20",
   "metadata": {
    "id": "a0faab20"
   },
   "source": [
    "\n",
    "---\n",
    "\n",
    "### Exercise 36:\n",
    "Write a Python function that takes a list of strings as input and returns the longest string.\n"
   ]
  },
  {
   "cell_type": "code",
   "execution_count": 25,
   "id": "f9f10963",
   "metadata": {
    "id": "f9f10963"
   },
   "outputs": [
    {
     "name": "stdout",
     "output_type": "stream",
     "text": [
      "banana\n"
     ]
    }
   ],
   "source": [
    "# Exercise 36\n",
    "def longest_string(strings):\n",
    "    if not strings:\n",
    "        return None \n",
    "    longest = strings[0]\n",
    "    for s in strings:\n",
    "        if len(s) > len(longest):\n",
    "            longest = s\n",
    "    return longest\n",
    "\n",
    "# Example usage:\n",
    "words = [\"apple\", \"banana\", \"cherry\", \"date\"]\n",
    "print(longest_string(words)) \n"
   ]
  },
  {
   "cell_type": "markdown",
   "id": "b607894e",
   "metadata": {
    "id": "b607894e"
   },
   "source": [
    "\n",
    "---\n",
    "\n",
    "### Exercise 37:\n",
    "Check if all the elements in the list `[1, 2, 3, 4, 5]` are greater than 0 using the `all()` function.\n"
   ]
  },
  {
   "cell_type": "code",
   "execution_count": 26,
   "id": "2c70c929",
   "metadata": {
    "id": "2c70c929"
   },
   "outputs": [
    {
     "name": "stdout",
     "output_type": "stream",
     "text": [
      "True\n"
     ]
    }
   ],
   "source": [
    "# Exercise 37\n",
    "numbers = [1, 2, 3, 4, 5]\n",
    "all_greater_than_zero = all(num > 0 for num in numbers)\n",
    "print(all_greater_than_zero)\n"
   ]
  },
  {
   "cell_type": "markdown",
   "id": "c7a96b9d",
   "metadata": {
    "id": "c7a96b9d"
   },
   "source": [
    "\n",
    "---\n",
    "\n",
    "### Exercise 38:\n",
    "Create a list of tuples where each tuple contains a number and its square for numbers from 1 to 5.\n"
   ]
  },
  {
   "cell_type": "code",
   "execution_count": 27,
   "id": "5957f979",
   "metadata": {
    "id": "5957f979"
   },
   "outputs": [
    {
     "name": "stdout",
     "output_type": "stream",
     "text": [
      "[(1, 1), (2, 4), (3, 9), (4, 16), (5, 25)]\n"
     ]
    }
   ],
   "source": [
    "# Exercise 38\n",
    "squares = [(x, x**2) for x in range(1, 6)]\n",
    "print(squares)\n"
   ]
  },
  {
   "cell_type": "markdown",
   "id": "81c8b43e",
   "metadata": {
    "id": "81c8b43e"
   },
   "source": [
    "\n",
    "---\n",
    "\n",
    "### Exercise 39:\n",
    "Write a Python function that takes a list of tuples and returns a list of the second elements from each tuple.\n"
   ]
  },
  {
   "cell_type": "code",
   "execution_count": 28,
   "id": "524043c8",
   "metadata": {
    "id": "524043c8"
   },
   "outputs": [
    {
     "name": "stdout",
     "output_type": "stream",
     "text": [
      "['a', 'b', 'c']\n"
     ]
    }
   ],
   "source": [
    "# Exercise 39\n",
    "def extract_second_elements(tuples_list):\n",
    "    return [t[1] for t in tuples_list]\n",
    "\n",
    "data = [(1, 'a'), (2, 'b'), (3, 'c')]\n",
    "print(extract_second_elements(data))  \n"
   ]
  },
  {
   "cell_type": "markdown",
   "id": "48bc26d7",
   "metadata": {
    "id": "48bc26d7"
   },
   "source": [
    "\n",
    "---\n",
    "\n",
    "### Exercise 40:\n",
    "Write a Python function that flattens a list of lists into a single list.\n"
   ]
  },
  {
   "cell_type": "code",
   "execution_count": 29,
   "id": "b944b52c",
   "metadata": {
    "id": "b944b52c"
   },
   "outputs": [
    {
     "name": "stdout",
     "output_type": "stream",
     "text": [
      "[1, 2, 3, 4, 5, 6]\n"
     ]
    }
   ],
   "source": [
    "# Exercise 40\n",
    "def flatten_list(nested_list):\n",
    "    return [item for sublist in nested_list for item in sublist]\n",
    "lists = [[1, 2], [3, 4], [5, 6]]\n",
    "print(flatten_list(lists)) \n"
   ]
  },
  {
   "cell_type": "markdown",
   "id": "89e77dfb",
   "metadata": {
    "id": "89e77dfb"
   },
   "source": [
    "\n",
    "---\n",
    "\n",
    "### Exercise 41:\n",
    "Use the `enumerate()` function to iterate through the list `[\"apple\", \"banana\", \"cherry\"]` and print the index and value.\n"
   ]
  },
  {
   "cell_type": "code",
   "execution_count": 30,
   "id": "287d36e1",
   "metadata": {
    "id": "287d36e1"
   },
   "outputs": [
    {
     "name": "stdout",
     "output_type": "stream",
     "text": [
      "Index: 0, Value: apple\n",
      "Index: 1, Value: banana\n",
      "Index: 2, Value: cherry\n"
     ]
    }
   ],
   "source": [
    "# Exercise 41\n",
    "fruits = [\"apple\", \"banana\", \"cherry\"]\n",
    "\n",
    "for index, value in enumerate(fruits):\n",
    "    print(f\"Index: {index}, Value: {value}\")\n"
   ]
  },
  {
   "cell_type": "markdown",
   "id": "ce43eb37",
   "metadata": {
    "id": "ce43eb37"
   },
   "source": [
    "\n",
    "---\n",
    "\n",
    "### Exercise 42:\n",
    "Write a Python program that checks if a tuple is empty.\n"
   ]
  },
  {
   "cell_type": "code",
   "execution_count": 32,
   "id": "dffe61c2",
   "metadata": {
    "id": "dffe61c2"
   },
   "outputs": [
    {
     "name": "stdout",
     "output_type": "stream",
     "text": [
      "False\n"
     ]
    }
   ],
   "source": [
    "# Exercise 42\n",
    "def is_tuple_empty(t):\n",
    "    return len(t) == 0\n",
    "\n",
    "non_empty_tuple = (1, 2)   \n",
    "print(is_tuple_empty(non_empty_tuple)) \n"
   ]
  },
  {
   "cell_type": "markdown",
   "id": "b77d431a",
   "metadata": {
    "id": "b77d431a"
   },
   "source": [
    "\n",
    "---\n",
    "\n",
    "### Exercise 43:\n",
    "Create a list of even numbers between 1 and 20 using the `range()` function.\n"
   ]
  },
  {
   "cell_type": "code",
   "execution_count": 33,
   "id": "e7668e50",
   "metadata": {
    "id": "e7668e50"
   },
   "outputs": [
    {
     "name": "stdout",
     "output_type": "stream",
     "text": [
      "[2, 4, 6, 8, 10, 12, 14, 16, 18, 20]\n"
     ]
    }
   ],
   "source": [
    "# Exercise 43\n",
    "even_numbers = list(range(2, 21, 2))\n",
    "print(even_numbers)\n"
   ]
  },
  {
   "cell_type": "markdown",
   "id": "acdaed92",
   "metadata": {
    "id": "acdaed92"
   },
   "source": [
    "\n",
    "---\n",
    "\n",
    "### Exercise 44:\n",
    "Write a Python function that takes a list of numbers as input and returns the list in reverse order.\n"
   ]
  },
  {
   "cell_type": "code",
   "execution_count": 34,
   "id": "d67bdd24",
   "metadata": {
    "id": "d67bdd24"
   },
   "outputs": [
    {
     "name": "stdout",
     "output_type": "stream",
     "text": [
      "[5, 4, 3, 2, 1]\n"
     ]
    }
   ],
   "source": [
    "# Exercise 44\n",
    "def reverse_list(numbers):\n",
    "    return numbers[::-1]\n",
    "my_list = [1, 2, 3, 4, 5]\n",
    "print(reverse_list(my_list)) \n"
   ]
  },
  {
   "cell_type": "markdown",
   "id": "5354b3c4",
   "metadata": {
    "id": "5354b3c4"
   },
   "source": [
    "\n",
    "---\n",
    "\n",
    "### Exercise 45:\n",
    "Create a dictionary comprehension that maps numbers from 1 to 5 to their cubes.\n"
   ]
  },
  {
   "cell_type": "code",
   "execution_count": 35,
   "id": "231f0012",
   "metadata": {
    "id": "231f0012"
   },
   "outputs": [
    {
     "name": "stdout",
     "output_type": "stream",
     "text": [
      "{1: 1, 2: 8, 3: 27, 4: 64, 5: 125}\n"
     ]
    }
   ],
   "source": [
    "# Exercise 45\n",
    "cubes = {x: x**3 for x in range(1, 6)}\n",
    "print(cubes)\n"
   ]
  },
  {
   "cell_type": "markdown",
   "id": "faabb654",
   "metadata": {
    "id": "faabb654"
   },
   "source": [
    "\n",
    "---\n",
    "\n",
    "### Exercise 46:\n",
    "Write a Python program that creates a new list containing only the unique elements of the list `[1, 2, 2, 3, 4, 4, 5]`.\n"
   ]
  },
  {
   "cell_type": "code",
   "execution_count": 36,
   "id": "3b769de9",
   "metadata": {
    "id": "3b769de9"
   },
   "outputs": [
    {
     "name": "stdout",
     "output_type": "stream",
     "text": [
      "[1, 2, 3, 4, 5]\n"
     ]
    }
   ],
   "source": [
    "# Exercise 46\n",
    "original_list = [1, 2, 2, 3, 4, 4, 5]\n",
    "\n",
    "unique_list = []\n",
    "seen = set()\n",
    "\n",
    "for item in original_list:\n",
    "    if item not in seen:\n",
    "        unique_list.append(item)\n",
    "        seen.add(item)\n",
    "\n",
    "print(unique_list)\n"
   ]
  },
  {
   "cell_type": "markdown",
   "id": "dbe53215",
   "metadata": {
    "id": "dbe53215"
   },
   "source": [
    "\n",
    "---\n",
    "\n",
    "### Exercise 47:\n",
    "Write a Python function that takes a list of dictionaries and returns a list of the values for a given key.\n"
   ]
  },
  {
   "cell_type": "code",
   "execution_count": null,
   "id": "f560389e",
   "metadata": {
    "id": "f560389e"
   },
   "outputs": [],
   "source": [
    "# Exercise 47"
   ]
  },
  {
   "cell_type": "markdown",
   "id": "297c79ff",
   "metadata": {
    "id": "297c79ff"
   },
   "source": [
    "\n",
    "---\n",
    "\n",
    "### Exercise 48:\n",
    "Write a Python function that uses a generator to yield the Fibonacci sequence up to `n` terms.\n"
   ]
  },
  {
   "cell_type": "code",
   "execution_count": null,
   "id": "63380ce6",
   "metadata": {
    "id": "63380ce6"
   },
   "outputs": [],
   "source": [
    "# Exercise 48"
   ]
  },
  {
   "cell_type": "markdown",
   "id": "45f7536e",
   "metadata": {
    "id": "45f7536e"
   },
   "source": [
    "\n",
    "---\n",
    "\n",
    "### Exercise 49:\n",
    "Write a Python function that takes a string and returns a list of all unique characters in the string.\n"
   ]
  },
  {
   "cell_type": "code",
   "execution_count": null,
   "id": "bab510f2",
   "metadata": {
    "id": "bab510f2"
   },
   "outputs": [],
   "source": [
    "# Exercise 49"
   ]
  },
  {
   "cell_type": "markdown",
   "id": "79cfed08",
   "metadata": {
    "id": "79cfed08"
   },
   "source": [
    "\n",
    "---\n",
    "\n",
    "### Exercise 50:\n",
    "Write a Python function that merges two sorted lists into a single sorted list.\n"
   ]
  },
  {
   "cell_type": "code",
   "execution_count": null,
   "id": "7fcb6676",
   "metadata": {
    "id": "7fcb6676"
   },
   "outputs": [],
   "source": [
    "# Exercise 50"
   ]
  },
  {
   "cell_type": "markdown",
   "id": "4359c140",
   "metadata": {
    "id": "4359c140"
   },
   "source": [
    "\n",
    "---\n",
    "\n",
    "### Exercise 51:\n",
    "Use the\n",
    "\n",
    " `filter()` function to filter out odd numbers from the list `[1, 2, 3, 4, 5, 6]`.\n"
   ]
  },
  {
   "cell_type": "code",
   "execution_count": null,
   "id": "3ec07449",
   "metadata": {
    "id": "3ec07449"
   },
   "outputs": [],
   "source": [
    "# Exercise 51"
   ]
  },
  {
   "cell_type": "markdown",
   "id": "311d2578",
   "metadata": {
    "id": "311d2578"
   },
   "source": [
    "\n",
    "---\n",
    "\n",
    "### Exercise 52:\n",
    "Write a Python program that converts a list of tuples `[(1, 2), (3, 4), (5, 6)]` into a dictionary.\n"
   ]
  },
  {
   "cell_type": "code",
   "execution_count": null,
   "id": "abb42173",
   "metadata": {
    "id": "abb42173"
   },
   "outputs": [],
   "source": [
    "# Exercise 52"
   ]
  },
  {
   "cell_type": "markdown",
   "id": "85fd7247",
   "metadata": {
    "id": "85fd7247"
   },
   "source": [
    "\n",
    "---\n",
    "\n",
    "### Exercise 53:\n",
    "Write a Python function that takes two sets and returns their symmetric difference.\n"
   ]
  },
  {
   "cell_type": "code",
   "execution_count": null,
   "id": "256f45dc",
   "metadata": {
    "id": "256f45dc"
   },
   "outputs": [],
   "source": [
    "# Exercise 53"
   ]
  },
  {
   "cell_type": "markdown",
   "id": "3583669c",
   "metadata": {
    "id": "3583669c"
   },
   "source": [
    "\n",
    "---\n",
    "\n",
    "### Exercise 54:\n",
    "Write a Python program that finds the common elements in three lists `list1`, `list2`, and `list3`.\n"
   ]
  },
  {
   "cell_type": "code",
   "execution_count": null,
   "id": "d7d8ee5e",
   "metadata": {
    "id": "d7d8ee5e"
   },
   "outputs": [],
   "source": [
    "# Exercise 54"
   ]
  },
  {
   "cell_type": "markdown",
   "id": "9a25e857",
   "metadata": {
    "id": "9a25e857"
   },
   "source": [
    "\n",
    "---\n",
    "\n",
    "### Exercise 55:\n",
    "Write a Python function that returns the factorial of a number using recursion.\n"
   ]
  },
  {
   "cell_type": "code",
   "execution_count": null,
   "id": "ebc5c223",
   "metadata": {
    "id": "ebc5c223"
   },
   "outputs": [],
   "source": [
    "# Exercise 55"
   ]
  },
  {
   "cell_type": "markdown",
   "id": "b54aac43",
   "metadata": {
    "id": "b54aac43"
   },
   "source": [
    "\n",
    "---\n",
    "\n",
    "### Exercise 56:\n",
    "Write a Python program that removes all empty strings from the list `[\"apple\", \"\", \"banana\", \"\", \"cherry\"]`.\n"
   ]
  },
  {
   "cell_type": "code",
   "execution_count": null,
   "id": "7fde547c",
   "metadata": {
    "id": "7fde547c"
   },
   "outputs": [],
   "source": [
    "# Exercise 56"
   ]
  },
  {
   "cell_type": "markdown",
   "id": "a698981c",
   "metadata": {
    "id": "a698981c"
   },
   "source": [
    "\n",
    "---\n",
    "\n",
    "### Exercise 57:\n",
    "Write a Python function that takes a dictionary and returns a new dictionary with the keys and values swapped.\n"
   ]
  },
  {
   "cell_type": "code",
   "execution_count": null,
   "id": "ab632d15",
   "metadata": {
    "id": "ab632d15"
   },
   "outputs": [],
   "source": [
    "# Exercise 57"
   ]
  },
  {
   "cell_type": "markdown",
   "id": "dfdc2034",
   "metadata": {
    "id": "dfdc2034"
   },
   "source": [
    "\n",
    "---\n",
    "\n",
    "### Exercise 58:\n",
    "Write a Python function that takes a list of integers and returns a new list with only the even numbers.\n"
   ]
  },
  {
   "cell_type": "code",
   "execution_count": null,
   "id": "db0feb48",
   "metadata": {
    "id": "db0feb48"
   },
   "outputs": [],
   "source": [
    "# Exercise 58"
   ]
  },
  {
   "cell_type": "markdown",
   "id": "5c14b9e2",
   "metadata": {
    "id": "5c14b9e2"
   },
   "source": [
    "\n",
    "---\n",
    "\n",
    "### Exercise 59:\n",
    "Write a Python function that takes a list of tuples and returns a list of the first elements of each tuple.\n"
   ]
  },
  {
   "cell_type": "code",
   "execution_count": null,
   "id": "e481b81a",
   "metadata": {
    "id": "e481b81a"
   },
   "outputs": [],
   "source": [
    "# Exercise 59"
   ]
  },
  {
   "cell_type": "markdown",
   "id": "5ffc4a73",
   "metadata": {
    "id": "5ffc4a73"
   },
   "source": [
    "\n",
    "---\n",
    "\n",
    "### Exercise 60:\n",
    "Write a Python program that removes duplicates from a list without changing the order of elements.\n"
   ]
  },
  {
   "cell_type": "code",
   "execution_count": null,
   "id": "69b5483c",
   "metadata": {
    "id": "69b5483c"
   },
   "outputs": [],
   "source": [
    "# Exercise 60"
   ]
  },
  {
   "cell_type": "markdown",
   "id": "1b9b50b4",
   "metadata": {
    "id": "1b9b50b4"
   },
   "source": [
    "\n",
    "---\n",
    "\n",
    "### Exercise 61:\n",
    "Use the `map()` function to convert a list of strings to a list of their lengths.\n"
   ]
  },
  {
   "cell_type": "code",
   "execution_count": null,
   "id": "4a4781f3",
   "metadata": {
    "id": "4a4781f3"
   },
   "outputs": [],
   "source": [
    "# Exercise 61"
   ]
  },
  {
   "cell_type": "markdown",
   "id": "320f3aca",
   "metadata": {
    "id": "320f3aca"
   },
   "source": [
    "\n",
    "---\n",
    "\n",
    "### Exercise 62:\n",
    "Write a Python program that calculates the average of a list of numbers.\n"
   ]
  },
  {
   "cell_type": "code",
   "execution_count": null,
   "id": "0ddf6294",
   "metadata": {
    "id": "0ddf6294"
   },
   "outputs": [],
   "source": [
    "# Exercise 62"
   ]
  },
  {
   "cell_type": "markdown",
   "id": "ada7c412",
   "metadata": {
    "id": "ada7c412"
   },
   "source": [
    "\n",
    "---\n",
    "\n",
    "### Exercise 63:\n",
    "Write a Python function that generates a list of the first `n` Fibonacci numbers.\n"
   ]
  },
  {
   "cell_type": "code",
   "execution_count": null,
   "id": "5c1281c7",
   "metadata": {
    "id": "5c1281c7"
   },
   "outputs": [],
   "source": [
    "# Exercise 63"
   ]
  },
  {
   "cell_type": "markdown",
   "id": "6a67ece7",
   "metadata": {
    "id": "6a67ece7"
   },
   "source": [
    "\n",
    "---\n",
    "\n",
    "### Exercise 64:\n",
    "Write a Python program that counts how many times each element appears in the list `[\"apple\", \"banana\", \"apple\", \"cherry\"]`.\n"
   ]
  },
  {
   "cell_type": "code",
   "execution_count": null,
   "id": "57213561",
   "metadata": {
    "id": "57213561"
   },
   "outputs": [],
   "source": [
    "# Exercise 64"
   ]
  },
  {
   "cell_type": "markdown",
   "id": "aa829fa6",
   "metadata": {
    "id": "aa829fa6"
   },
   "source": [
    "\n",
    "---\n",
    "\n",
    "### Exercise 65:\n",
    "Write a Python program that removes all occurrences of a specific value from a list.\n"
   ]
  },
  {
   "cell_type": "code",
   "execution_count": null,
   "id": "16b868ee",
   "metadata": {
    "id": "16b868ee"
   },
   "outputs": [],
   "source": [
    "# Exercise 65"
   ]
  },
  {
   "cell_type": "markdown",
   "id": "d67afd7d",
   "metadata": {
    "id": "d67afd7d"
   },
   "source": [
    "\n",
    "---\n",
    "\n",
    "### Exercise 66:\n",
    "Write a Python function that takes a list of strings and returns a list of the strings that start with a vowel.\n"
   ]
  },
  {
   "cell_type": "code",
   "execution_count": null,
   "id": "51721e69",
   "metadata": {
    "id": "51721e69"
   },
   "outputs": [],
   "source": [
    "# Exercise 66"
   ]
  },
  {
   "cell_type": "markdown",
   "id": "25cef748",
   "metadata": {
    "id": "25cef748"
   },
   "source": [
    "\n",
    "---\n",
    "\n",
    "### Exercise 67:\n",
    "Write a Python program that finds the intersection of two sets `set1` and `set2`.\n"
   ]
  },
  {
   "cell_type": "code",
   "execution_count": null,
   "id": "e72a1ab5",
   "metadata": {
    "id": "e72a1ab5"
   },
   "outputs": [],
   "source": [
    "# Exercise 67"
   ]
  },
  {
   "cell_type": "markdown",
   "id": "7f72b8f0",
   "metadata": {
    "id": "7f72b8f0"
   },
   "source": [
    "\n",
    "---\n",
    "\n",
    "### Exercise 68:\n",
    "Write a Python function that flattens a nested list.\n"
   ]
  },
  {
   "cell_type": "code",
   "execution_count": null,
   "id": "3f11ec5b",
   "metadata": {
    "id": "3f11ec5b"
   },
   "outputs": [],
   "source": [
    "# Exercise 68"
   ]
  },
  {
   "cell_type": "markdown",
   "id": "6f048ddb",
   "metadata": {
    "id": "6f048ddb"
   },
   "source": [
    "\n",
    "---\n",
    "\n",
    "### Exercise 69:\n",
    "Write a Python program that checks if all the elements in a list are unique.\n"
   ]
  },
  {
   "cell_type": "code",
   "execution_count": null,
   "id": "3ed01a59",
   "metadata": {
    "id": "3ed01a59"
   },
   "outputs": [],
   "source": [
    "# Exercise 69"
   ]
  },
  {
   "cell_type": "markdown",
   "id": "39f80d26",
   "metadata": {
    "id": "39f80d26"
   },
   "source": [
    "\n",
    "---\n",
    "\n",
    "### Exercise 70:\n",
    "Use the `reduce()` function from the `functools` module to multiply all elements in a list.\n"
   ]
  },
  {
   "cell_type": "code",
   "execution_count": null,
   "id": "c9392f51",
   "metadata": {
    "id": "c9392f51"
   },
   "outputs": [],
   "source": [
    "# Exercise 70"
   ]
  },
  {
   "cell_type": "markdown",
   "id": "405c9fac",
   "metadata": {
    "id": "405c9fac"
   },
   "source": [
    "\n",
    "---\n",
    "\n",
    "### Exercise 71:\n",
    "Write a Python function that takes a list of strings and returns a dictionary where keys are strings and values are their lengths.\n"
   ]
  },
  {
   "cell_type": "code",
   "execution_count": null,
   "id": "5a22c6ba",
   "metadata": {
    "id": "5a22c6ba"
   },
   "outputs": [],
   "source": [
    "# Exercise 71"
   ]
  },
  {
   "cell_type": "markdown",
   "id": "8447d495",
   "metadata": {
    "id": "8447d495"
   },
   "source": [
    "\n",
    "---\n",
    "\n",
    "### Exercise 72:\n",
    "Write a Python program that counts the number of vowels in a string.\n"
   ]
  },
  {
   "cell_type": "code",
   "execution_count": null,
   "id": "a97366b2",
   "metadata": {
    "id": "a97366b2"
   },
   "outputs": [],
   "source": [
    "# Exercise 72"
   ]
  },
  {
   "cell_type": "markdown",
   "id": "a2daf99e",
   "metadata": {
    "id": "a2daf99e"
   },
   "source": [
    "\n",
    "---\n",
    "\n",
    "### Exercise 73:\n",
    "Create a list of tuples where each tuple contains a number from 1 to 5 and its factorial.\n"
   ]
  },
  {
   "cell_type": "code",
   "execution_count": null,
   "id": "26a95d77",
   "metadata": {
    "id": "26a95d77"
   },
   "outputs": [],
   "source": [
    "# Exercise 73"
   ]
  },
  {
   "cell_type": "markdown",
   "id": "574c7b40",
   "metadata": {
    "id": "574c7b40"
   },
   "source": [
    "\n",
    "---\n",
    "\n",
    "### Exercise 74:\n",
    "Write a Python program that converts a list of dictionaries into a single dictionary by merging them.\n"
   ]
  },
  {
   "cell_type": "code",
   "execution_count": null,
   "id": "fe108bc9",
   "metadata": {
    "id": "fe108bc9"
   },
   "outputs": [],
   "source": [
    "# Exercise 74"
   ]
  },
  {
   "cell_type": "markdown",
   "id": "36381b03",
   "metadata": {
    "id": "36381b03"
   },
   "source": [
    "\n",
    "---\n",
    "\n",
    "### Exercise 75:\n",
    "Write a Python function that checks if a set is a subset of another set.\n"
   ]
  },
  {
   "cell_type": "code",
   "execution_count": null,
   "id": "a8ce9282",
   "metadata": {
    "id": "a8ce9282"
   },
   "outputs": [],
   "source": [
    "# Exercise 75"
   ]
  },
  {
   "cell_type": "markdown",
   "id": "5fa98235",
   "metadata": {
    "id": "5fa98235"
   },
   "source": [
    "\n",
    "---\n",
    "\n",
    "### Exercise 76:\n",
    "Write a Python program that sorts a list of tuples based on the second element in each tuple.\n"
   ]
  },
  {
   "cell_type": "code",
   "execution_count": null,
   "id": "547434ea",
   "metadata": {
    "id": "547434ea"
   },
   "outputs": [],
   "source": [
    "# Exercise 76"
   ]
  },
  {
   "cell_type": "markdown",
   "id": "3713ff96",
   "metadata": {
    "id": "3713ff96"
   },
   "source": [
    "\n",
    "---\n",
    "\n",
    "### Exercise 77:\n",
    "Write a Python function that takes a list of integers and returns a new list with only the positive integers.\n"
   ]
  },
  {
   "cell_type": "code",
   "execution_count": null,
   "id": "6f109433",
   "metadata": {
    "id": "6f109433"
   },
   "outputs": [],
   "source": [
    "# Exercise 77"
   ]
  },
  {
   "cell_type": "markdown",
   "id": "fd1b38b2",
   "metadata": {
    "id": "fd1b38b2"
   },
   "source": [
    "\n",
    "---\n",
    "\n",
    "### Exercise 78:\n",
    "Write a Python function that takes two sets and returns their union.\n"
   ]
  },
  {
   "cell_type": "code",
   "execution_count": null,
   "id": "9ebbf168",
   "metadata": {
    "id": "9ebbf168"
   },
   "outputs": [],
   "source": [
    "# Exercise 78"
   ]
  },
  {
   "cell_type": "markdown",
   "id": "3810cede",
   "metadata": {
    "id": "3810cede"
   },
   "source": [
    "\n",
    "---\n",
    "\n",
    "### Exercise 79:\n",
    "Write a Python function that takes a list of numbers and returns the product of all the numbers.\n"
   ]
  },
  {
   "cell_type": "code",
   "execution_count": null,
   "id": "6051255e",
   "metadata": {
    "id": "6051255e"
   },
   "outputs": [],
   "source": [
    "# Exercise 79"
   ]
  },
  {
   "cell_type": "markdown",
   "id": "9e0df32b",
   "metadata": {
    "id": "9e0df32b"
   },
   "source": [
    "\n",
    "---\n",
    "\n",
    "### Exercise 80:\n",
    "Write a Python program that converts a list of characters into a string.\n"
   ]
  },
  {
   "cell_type": "code",
   "execution_count": null,
   "id": "379112dd",
   "metadata": {
    "id": "379112dd"
   },
   "outputs": [],
   "source": [
    "# Exercise 80"
   ]
  },
  {
   "cell_type": "markdown",
   "id": "146b572c",
   "metadata": {
    "id": "146b572c"
   },
   "source": [
    "\n",
    "---\n",
    "\n",
    "### Exercise 81:\n",
    "Write a Python program that finds the second largest number in a list of integers.\n"
   ]
  },
  {
   "cell_type": "code",
   "execution_count": null,
   "id": "676e61dd",
   "metadata": {
    "id": "676e61dd"
   },
   "outputs": [],
   "source": [
    "# Exercise 81"
   ]
  },
  {
   "cell_type": "markdown",
   "id": "08bf9c38",
   "metadata": {
    "id": "08bf9c38"
   },
   "source": [
    "\n",
    "---\n",
    "\n",
    "### Exercise 82:\n",
    "Write a Python function that takes a dictionary and returns a list of its keys in sorted order.\n"
   ]
  },
  {
   "cell_type": "code",
   "execution_count": null,
   "id": "07840783",
   "metadata": {
    "id": "07840783"
   },
   "outputs": [],
   "source": [
    "# Exercise 82"
   ]
  },
  {
   "cell_type": "markdown",
   "id": "63dcfc04",
   "metadata": {
    "id": "63dcfc04"
   },
   "source": [
    "\n",
    "---\n",
    "\n",
    "### Exercise 83:\n",
    "Write a Python program that finds the most common element in a list.\n"
   ]
  },
  {
   "cell_type": "code",
   "execution_count": null,
   "id": "2abbdaa6",
   "metadata": {
    "id": "2abbdaa6"
   },
   "outputs": [],
   "source": [
    "# Exercise 83"
   ]
  },
  {
   "cell_type": "markdown",
   "id": "3ac8727c",
   "metadata": {
    "id": "3ac8727c"
   },
   "source": [
    "\n",
    "---\n",
    "\n",
    "### Exercise 84:\n",
    "Write a Python function that takes a list of tuples and returns a list of the tuples sorted by the first element.\n"
   ]
  },
  {
   "cell_type": "code",
   "execution_count": null,
   "id": "a2f3af06",
   "metadata": {
    "id": "a2f3af06"
   },
   "outputs": [],
   "source": [
    "# Exercise 84"
   ]
  },
  {
   "cell_type": "markdown",
   "id": "fe10fcd0",
   "metadata": {
    "id": "fe10fcd0"
   },
   "source": [
    "\n",
    "---\n",
    "\n",
    "### Exercise 85:\n",
    "Write a Python program that removes duplicates from a list of dictionaries.\n"
   ]
  },
  {
   "cell_type": "code",
   "execution_count": null,
   "id": "5da29451",
   "metadata": {
    "id": "5da29451"
   },
   "outputs": [],
   "source": [
    "# Exercise 85"
   ]
  },
  {
   "cell_type": "markdown",
   "id": "76e005e6",
   "metadata": {
    "id": "76e005e6"
   },
   "source": [
    "\n",
    "---\n",
    "\n",
    "### Exercise 86:\n",
    "Write a Python function that takes a list of numbers and returns the minimum and maximum numbers in the list.\n"
   ]
  },
  {
   "cell_type": "code",
   "execution_count": null,
   "id": "2573ccd9",
   "metadata": {
    "id": "2573ccd9"
   },
   "outputs": [],
   "source": [
    "# Exercise 86"
   ]
  },
  {
   "cell_type": "markdown",
   "id": "c13d74a1",
   "metadata": {
    "id": "c13d74a1"
   },
   "source": [
    "\n",
    "---\n",
    "\n",
    "### Exercise 87:\n",
    "Write a Python program that creates a list of tuples from two lists.\n"
   ]
  },
  {
   "cell_type": "code",
   "execution_count": null,
   "id": "e1e91424",
   "metadata": {
    "id": "e1e91424"
   },
   "outputs": [],
   "source": [
    "# Exercise 87"
   ]
  },
  {
   "cell_type": "markdown",
   "id": "f0f3f4ad",
   "metadata": {
    "id": "f0f3f4ad"
   },
   "source": [
    "\n",
    "---\n",
    "\n",
    "### Exercise 88:\n",
    "Write a Python function that takes a list of strings and returns a list of the strings in reverse order.\n"
   ]
  },
  {
   "cell_type": "code",
   "execution_count": null,
   "id": "25b9437c",
   "metadata": {
    "id": "25b9437c"
   },
   "outputs": [],
   "source": [
    "# Exercise 88"
   ]
  },
  {
   "cell_type": "markdown",
   "id": "43dc3593",
   "metadata": {
    "id": "43dc3593"
   },
   "source": [
    "\n",
    "---\n",
    "\n",
    "### Exercise 89:\n",
    "Write a Python function that takes a list of integers and returns the sum of all odd numbers.\n"
   ]
  },
  {
   "cell_type": "code",
   "execution_count": null,
   "id": "d44a17e4",
   "metadata": {
    "id": "d44a17e4"
   },
   "outputs": [],
   "source": [
    "# Exercise 89"
   ]
  },
  {
   "cell_type": "markdown",
   "id": "b494aae8",
   "metadata": {
    "id": "b494aae8"
   },
   "source": [
    "\n",
    "---\n",
    "\n",
    "### Exercise 90:\n",
    "Write a Python program that checks if a string is a palindrome.\n"
   ]
  },
  {
   "cell_type": "code",
   "execution_count": null,
   "id": "73fdee3b",
   "metadata": {
    "id": "73fdee3b"
   },
   "outputs": [],
   "source": [
    "# Exercise 90"
   ]
  },
  {
   "cell_type": "markdown",
   "id": "632ba2b9",
   "metadata": {
    "id": "632ba2b9"
   },
   "source": [
    "\n",
    "---\n",
    "\n",
    "### Exercise 91:\n",
    "Write a Python program that finds the median of a list of numbers.\n"
   ]
  },
  {
   "cell_type": "code",
   "execution_count": null,
   "id": "e01eb242",
   "metadata": {
    "id": "e01eb242"
   },
   "outputs": [],
   "source": [
    "# Exercise 91"
   ]
  },
  {
   "cell_type": "markdown",
   "id": "cc98919a",
   "metadata": {
    "id": "cc98919a"
   },
   "source": [
    "\n",
    "---\n",
    "\n",
    "### Exercise 92:\n",
    "Write a Python function that takes a list of dictionaries and returns a dictionary with the total value for each key.\n"
   ]
  },
  {
   "cell_type": "code",
   "execution_count": null,
   "id": "4b823f16",
   "metadata": {
    "id": "4b823f16"
   },
   "outputs": [],
   "source": [
    "# Exercise 92"
   ]
  },
  {
   "cell_type": "markdown",
   "id": "2a7b4a1f",
   "metadata": {
    "id": "2a7b4a1f"
   },
   "source": [
    "\n",
    "---\n",
    "\n",
    "### Exercise 93:\n",
    "Write a Python program that calculates the mode of a list of numbers.\n"
   ]
  },
  {
   "cell_type": "code",
   "execution_count": null,
   "id": "42035756",
   "metadata": {
    "id": "42035756"
   },
   "outputs": [],
   "source": [
    "# Exercise 93"
   ]
  },
  {
   "cell_type": "markdown",
   "id": "b37470a9",
   "metadata": {
    "id": "b37470a9"
   },
   "source": [
    "\n",
    "---\n",
    "\n",
    "### Exercise 94:\n",
    "Write a Python function that takes a list of numbers and returns the sum of the squares of all the numbers.\n"
   ]
  },
  {
   "cell_type": "code",
   "execution_count": null,
   "id": "6ce9e87b",
   "metadata": {
    "id": "6ce9e87b"
   },
   "outputs": [],
   "source": [
    "# Exercise 94"
   ]
  },
  {
   "cell_type": "markdown",
   "id": "cd40161b",
   "metadata": {
    "id": "cd40161b"
   },
   "source": [
    "\n",
    "---\n",
    "\n",
    "### Exercise 95:\n",
    "Write a Python program that creates a list of tuples, where each tuple contains a number and its cube for numbers from 1 to 5.\n"
   ]
  },
  {
   "cell_type": "code",
   "execution_count": null,
   "id": "6d8fe1a0",
   "metadata": {
    "id": "6d8fe1a0"
   },
   "outputs": [],
   "source": [
    "# Exercise 95"
   ]
  },
  {
   "cell_type": "markdown",
   "id": "ae965a3c",
   "metadata": {
    "id": "ae965a3c"
   },
   "source": [
    "\n",
    "---\n",
    "\n",
    "### Exercise 96:\n",
    "Write a Python function that returns a list of all prime numbers up to `n`.\n"
   ]
  },
  {
   "cell_type": "code",
   "execution_count": null,
   "id": "922ee043",
   "metadata": {
    "id": "922ee043"
   },
   "outputs": [],
   "source": [
    "# Exercise 96"
   ]
  },
  {
   "cell_type": "markdown",
   "id": "d5568b95",
   "metadata": {
    "id": "d5568b95"
   },
   "source": [
    "\n",
    "---\n",
    "\n",
    "### Exercise 97:\n",
    "Write a Python program that finds the common keys between two dictionaries.\n"
   ]
  },
  {
   "cell_type": "code",
   "execution_count": null,
   "id": "7dc99fcf",
   "metadata": {
    "id": "7dc99fcf"
   },
   "outputs": [],
   "source": [
    "# Exercise 97"
   ]
  },
  {
   "cell_type": "markdown",
   "id": "bc63aa23",
   "metadata": {
    "id": "bc63aa23"
   },
   "source": [
    "\n",
    "---\n",
    "\n",
    "### Exercise 98:\n",
    "Write a Python function that takes a list of strings and returns a list of the strings that contain more than 5 characters.\n"
   ]
  },
  {
   "cell_type": "code",
   "execution_count": null,
   "id": "5d279573",
   "metadata": {
    "id": "5d279573"
   },
   "outputs": [],
   "source": [
    "# Exercise 98"
   ]
  },
  {
   "cell_type": "markdown",
   "id": "d7b1bc80",
   "metadata": {
    "id": "d7b1bc80"
   },
   "source": [
    "\n",
    "---\n",
    "\n",
    "### Exercise 99:\n",
    "Write a Python program that converts a list of strings into a list of tuples, where each tuple contains the string and its length.\n"
   ]
  },
  {
   "cell_type": "code",
   "execution_count": null,
   "id": "872e6d36",
   "metadata": {
    "id": "872e6d36"
   },
   "outputs": [],
   "source": [
    "# Exercise 99"
   ]
  },
  {
   "cell_type": "markdown",
   "id": "277dc676",
   "metadata": {
    "id": "277dc676"
   },
   "source": [
    "\n",
    "---\n",
    "\n",
    "### Exercise 100:\n",
    "Write a Python function that takes a list of dictionaries and returns a new dictionary by summing the values of each key across all dictionaries.\n"
   ]
  },
  {
   "cell_type": "code",
   "execution_count": null,
   "id": "7667d86f",
   "metadata": {
    "id": "7667d86f"
   },
   "outputs": [],
   "source": [
    "# Exercise 100"
   ]
  },
  {
   "cell_type": "markdown",
   "id": "683a0ab7",
   "metadata": {
    "id": "683a0ab7"
   },
   "source": [
    "\n",
    "---"
   ]
  },
  {
   "cell_type": "code",
   "execution_count": null,
   "id": "4e7202b1-2504-4f93-9664-f1b1c42bf507",
   "metadata": {
    "id": "4e7202b1-2504-4f93-9664-f1b1c42bf507"
   },
   "outputs": [],
   "source": []
  }
 ],
 "metadata": {
  "colab": {
   "provenance": []
  },
  "kernelspec": {
   "display_name": "Python [conda env:base] *",
   "language": "python",
   "name": "conda-base-py"
  },
  "language_info": {
   "codemirror_mode": {
    "name": "ipython",
    "version": 3
   },
   "file_extension": ".py",
   "mimetype": "text/x-python",
   "name": "python",
   "nbconvert_exporter": "python",
   "pygments_lexer": "ipython3",
   "version": "3.12.7"
  }
 },
 "nbformat": 4,
 "nbformat_minor": 5
}
